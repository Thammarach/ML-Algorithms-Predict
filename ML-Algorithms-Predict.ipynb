{
  "cells": [
    {
      "cell_type": "markdown",
      "metadata": {
        "id": "view-in-github",
        "colab_type": "text"
      },
      "source": [
        "<a href=\"https://colab.research.google.com/github/Thammarach/ML-Algorithms-Predict/blob/main/ML-Algorithms-Predict.ipynb\" target=\"_parent\"><img src=\"https://colab.research.google.com/assets/colab-badge.svg\" alt=\"Open In Colab\"/></a>"
      ]
    },
    {
      "cell_type": "markdown",
      "source": [
        "# K-Mean Clustering"
      ],
      "metadata": {
        "id": "IyLDp5uUyxIX"
      }
    },
    {
      "cell_type": "markdown",
      "source": [
        "Dataset using 03-cities.csv"
      ],
      "metadata": {
        "id": "fI4bOyMjyi8G"
      }
    },
    {
      "cell_type": "code",
      "execution_count": null,
      "metadata": {
        "id": "z2Sa39hdLPqD"
      },
      "outputs": [],
      "source": [
        "import pandas as pd"
      ]
    },
    {
      "cell_type": "code",
      "execution_count": null,
      "metadata": {
        "id": "QyNqFIEYLssR"
      },
      "outputs": [],
      "source": [
        "df = pd.read_csv('/content/drive/MyDrive/Dataset_KU/03-cities.csv', \n",
        "                 encoding='tis620')"
      ]
    },
    {
      "cell_type": "code",
      "execution_count": null,
      "metadata": {
        "colab": {
          "base_uri": "https://localhost:8080/",
          "height": 522
        },
        "id": "lMsEPjyMMVj7",
        "outputId": "01285f9e-e446-4808-be42-7bb74a35233d"
      },
      "outputs": [
        {
          "output_type": "execute_result",
          "data": {
            "text/plain": [
              "            city         country  latitude  longitude  temperature  \\\n",
              "0        Aalborg         Denmark     57.03       9.92         7.52   \n",
              "1       Aberdeen  United Kingdom     57.17      -2.08         8.10   \n",
              "2         Abisko          Sweden     63.35      18.83         0.20   \n",
              "3          Adana          Turkey     36.99      35.32        18.67   \n",
              "4       Albacete           Spain     39.00      -1.87        12.62   \n",
              "..           ...             ...       ...        ...          ...   \n",
              "208  Yevpatoriya         Ukraine     45.20      33.36        10.02   \n",
              "209     Zaragoza           Spain     41.65      -0.89        14.17   \n",
              "210     Zhytomyr         Ukraine     50.25      28.66         6.67   \n",
              "211    Zonguldak          Turkey     41.43      31.78        10.64   \n",
              "212       Zurich     Switzerland     47.38       8.56         6.68   \n",
              "\n",
              "     Unnamed: 5  Unnamed: 6  Unnamed: 7  Unnamed: 8  Unnamed: 9  ...  \\\n",
              "0           NaN         NaN         NaN         NaN         NaN  ...   \n",
              "1           NaN         NaN         NaN         NaN         NaN  ...   \n",
              "2           NaN         NaN         NaN         NaN         NaN  ...   \n",
              "3           NaN         NaN         NaN         NaN         NaN  ...   \n",
              "4           NaN         NaN         NaN         NaN         NaN  ...   \n",
              "..          ...         ...         ...         ...         ...  ...   \n",
              "208         NaN         NaN         NaN         NaN         NaN  ...   \n",
              "209         NaN         NaN         NaN         NaN         NaN  ...   \n",
              "210         NaN         NaN         NaN         NaN         NaN  ...   \n",
              "211         NaN         NaN         NaN         NaN         NaN  ...   \n",
              "212         NaN         NaN         NaN         NaN         NaN  ...   \n",
              "\n",
              "     Unnamed: 13  Unnamed: 14  Unnamed: 15  Unnamed: 16  Unnamed: 17  \\\n",
              "0            NaN          NaN          NaN          NaN          NaN   \n",
              "1            NaN          NaN          NaN          NaN          NaN   \n",
              "2            NaN          NaN          NaN          NaN          NaN   \n",
              "3            NaN          NaN          NaN          NaN          NaN   \n",
              "4            NaN          NaN          NaN          NaN          NaN   \n",
              "..           ...          ...          ...          ...          ...   \n",
              "208          NaN          NaN          NaN          NaN          NaN   \n",
              "209          NaN          NaN          NaN          NaN          NaN   \n",
              "210          NaN          NaN          NaN          NaN          NaN   \n",
              "211          NaN          NaN          NaN          NaN          NaN   \n",
              "212          NaN          NaN          NaN          NaN          NaN   \n",
              "\n",
              "     Unnamed: 18  Unnamed: 19  Unnamed: 20  Unnamed: 21  Unnamed: 22  \n",
              "0            NaN          NaN          NaN          NaN          NaN  \n",
              "1            NaN          NaN          NaN          NaN          NaN  \n",
              "2            NaN          NaN          NaN          NaN          NaN  \n",
              "3            NaN          NaN          NaN          NaN          NaN  \n",
              "4            NaN          NaN          NaN          NaN          NaN  \n",
              "..           ...          ...          ...          ...          ...  \n",
              "208          NaN          NaN          NaN          NaN          NaN  \n",
              "209          NaN          NaN          NaN          NaN          NaN  \n",
              "210          NaN          NaN          NaN          NaN          NaN  \n",
              "211          NaN          NaN          NaN          NaN          NaN  \n",
              "212          NaN          NaN          NaN          NaN          NaN  \n",
              "\n",
              "[213 rows x 23 columns]"
            ],
            "text/html": [
              "\n",
              "  <div id=\"df-d76015d3-4eaa-4a7d-8b58-c7a2fcf601fb\">\n",
              "    <div class=\"colab-df-container\">\n",
              "      <div>\n",
              "<style scoped>\n",
              "    .dataframe tbody tr th:only-of-type {\n",
              "        vertical-align: middle;\n",
              "    }\n",
              "\n",
              "    .dataframe tbody tr th {\n",
              "        vertical-align: top;\n",
              "    }\n",
              "\n",
              "    .dataframe thead th {\n",
              "        text-align: right;\n",
              "    }\n",
              "</style>\n",
              "<table border=\"1\" class=\"dataframe\">\n",
              "  <thead>\n",
              "    <tr style=\"text-align: right;\">\n",
              "      <th></th>\n",
              "      <th>city</th>\n",
              "      <th>country</th>\n",
              "      <th>latitude</th>\n",
              "      <th>longitude</th>\n",
              "      <th>temperature</th>\n",
              "      <th>Unnamed: 5</th>\n",
              "      <th>Unnamed: 6</th>\n",
              "      <th>Unnamed: 7</th>\n",
              "      <th>Unnamed: 8</th>\n",
              "      <th>Unnamed: 9</th>\n",
              "      <th>...</th>\n",
              "      <th>Unnamed: 13</th>\n",
              "      <th>Unnamed: 14</th>\n",
              "      <th>Unnamed: 15</th>\n",
              "      <th>Unnamed: 16</th>\n",
              "      <th>Unnamed: 17</th>\n",
              "      <th>Unnamed: 18</th>\n",
              "      <th>Unnamed: 19</th>\n",
              "      <th>Unnamed: 20</th>\n",
              "      <th>Unnamed: 21</th>\n",
              "      <th>Unnamed: 22</th>\n",
              "    </tr>\n",
              "  </thead>\n",
              "  <tbody>\n",
              "    <tr>\n",
              "      <th>0</th>\n",
              "      <td>Aalborg</td>\n",
              "      <td>Denmark</td>\n",
              "      <td>57.03</td>\n",
              "      <td>9.92</td>\n",
              "      <td>7.52</td>\n",
              "      <td>NaN</td>\n",
              "      <td>NaN</td>\n",
              "      <td>NaN</td>\n",
              "      <td>NaN</td>\n",
              "      <td>NaN</td>\n",
              "      <td>...</td>\n",
              "      <td>NaN</td>\n",
              "      <td>NaN</td>\n",
              "      <td>NaN</td>\n",
              "      <td>NaN</td>\n",
              "      <td>NaN</td>\n",
              "      <td>NaN</td>\n",
              "      <td>NaN</td>\n",
              "      <td>NaN</td>\n",
              "      <td>NaN</td>\n",
              "      <td>NaN</td>\n",
              "    </tr>\n",
              "    <tr>\n",
              "      <th>1</th>\n",
              "      <td>Aberdeen</td>\n",
              "      <td>United Kingdom</td>\n",
              "      <td>57.17</td>\n",
              "      <td>-2.08</td>\n",
              "      <td>8.10</td>\n",
              "      <td>NaN</td>\n",
              "      <td>NaN</td>\n",
              "      <td>NaN</td>\n",
              "      <td>NaN</td>\n",
              "      <td>NaN</td>\n",
              "      <td>...</td>\n",
              "      <td>NaN</td>\n",
              "      <td>NaN</td>\n",
              "      <td>NaN</td>\n",
              "      <td>NaN</td>\n",
              "      <td>NaN</td>\n",
              "      <td>NaN</td>\n",
              "      <td>NaN</td>\n",
              "      <td>NaN</td>\n",
              "      <td>NaN</td>\n",
              "      <td>NaN</td>\n",
              "    </tr>\n",
              "    <tr>\n",
              "      <th>2</th>\n",
              "      <td>Abisko</td>\n",
              "      <td>Sweden</td>\n",
              "      <td>63.35</td>\n",
              "      <td>18.83</td>\n",
              "      <td>0.20</td>\n",
              "      <td>NaN</td>\n",
              "      <td>NaN</td>\n",
              "      <td>NaN</td>\n",
              "      <td>NaN</td>\n",
              "      <td>NaN</td>\n",
              "      <td>...</td>\n",
              "      <td>NaN</td>\n",
              "      <td>NaN</td>\n",
              "      <td>NaN</td>\n",
              "      <td>NaN</td>\n",
              "      <td>NaN</td>\n",
              "      <td>NaN</td>\n",
              "      <td>NaN</td>\n",
              "      <td>NaN</td>\n",
              "      <td>NaN</td>\n",
              "      <td>NaN</td>\n",
              "    </tr>\n",
              "    <tr>\n",
              "      <th>3</th>\n",
              "      <td>Adana</td>\n",
              "      <td>Turkey</td>\n",
              "      <td>36.99</td>\n",
              "      <td>35.32</td>\n",
              "      <td>18.67</td>\n",
              "      <td>NaN</td>\n",
              "      <td>NaN</td>\n",
              "      <td>NaN</td>\n",
              "      <td>NaN</td>\n",
              "      <td>NaN</td>\n",
              "      <td>...</td>\n",
              "      <td>NaN</td>\n",
              "      <td>NaN</td>\n",
              "      <td>NaN</td>\n",
              "      <td>NaN</td>\n",
              "      <td>NaN</td>\n",
              "      <td>NaN</td>\n",
              "      <td>NaN</td>\n",
              "      <td>NaN</td>\n",
              "      <td>NaN</td>\n",
              "      <td>NaN</td>\n",
              "    </tr>\n",
              "    <tr>\n",
              "      <th>4</th>\n",
              "      <td>Albacete</td>\n",
              "      <td>Spain</td>\n",
              "      <td>39.00</td>\n",
              "      <td>-1.87</td>\n",
              "      <td>12.62</td>\n",
              "      <td>NaN</td>\n",
              "      <td>NaN</td>\n",
              "      <td>NaN</td>\n",
              "      <td>NaN</td>\n",
              "      <td>NaN</td>\n",
              "      <td>...</td>\n",
              "      <td>NaN</td>\n",
              "      <td>NaN</td>\n",
              "      <td>NaN</td>\n",
              "      <td>NaN</td>\n",
              "      <td>NaN</td>\n",
              "      <td>NaN</td>\n",
              "      <td>NaN</td>\n",
              "      <td>NaN</td>\n",
              "      <td>NaN</td>\n",
              "      <td>NaN</td>\n",
              "    </tr>\n",
              "    <tr>\n",
              "      <th>...</th>\n",
              "      <td>...</td>\n",
              "      <td>...</td>\n",
              "      <td>...</td>\n",
              "      <td>...</td>\n",
              "      <td>...</td>\n",
              "      <td>...</td>\n",
              "      <td>...</td>\n",
              "      <td>...</td>\n",
              "      <td>...</td>\n",
              "      <td>...</td>\n",
              "      <td>...</td>\n",
              "      <td>...</td>\n",
              "      <td>...</td>\n",
              "      <td>...</td>\n",
              "      <td>...</td>\n",
              "      <td>...</td>\n",
              "      <td>...</td>\n",
              "      <td>...</td>\n",
              "      <td>...</td>\n",
              "      <td>...</td>\n",
              "      <td>...</td>\n",
              "    </tr>\n",
              "    <tr>\n",
              "      <th>208</th>\n",
              "      <td>Yevpatoriya</td>\n",
              "      <td>Ukraine</td>\n",
              "      <td>45.20</td>\n",
              "      <td>33.36</td>\n",
              "      <td>10.02</td>\n",
              "      <td>NaN</td>\n",
              "      <td>NaN</td>\n",
              "      <td>NaN</td>\n",
              "      <td>NaN</td>\n",
              "      <td>NaN</td>\n",
              "      <td>...</td>\n",
              "      <td>NaN</td>\n",
              "      <td>NaN</td>\n",
              "      <td>NaN</td>\n",
              "      <td>NaN</td>\n",
              "      <td>NaN</td>\n",
              "      <td>NaN</td>\n",
              "      <td>NaN</td>\n",
              "      <td>NaN</td>\n",
              "      <td>NaN</td>\n",
              "      <td>NaN</td>\n",
              "    </tr>\n",
              "    <tr>\n",
              "      <th>209</th>\n",
              "      <td>Zaragoza</td>\n",
              "      <td>Spain</td>\n",
              "      <td>41.65</td>\n",
              "      <td>-0.89</td>\n",
              "      <td>14.17</td>\n",
              "      <td>NaN</td>\n",
              "      <td>NaN</td>\n",
              "      <td>NaN</td>\n",
              "      <td>NaN</td>\n",
              "      <td>NaN</td>\n",
              "      <td>...</td>\n",
              "      <td>NaN</td>\n",
              "      <td>NaN</td>\n",
              "      <td>NaN</td>\n",
              "      <td>NaN</td>\n",
              "      <td>NaN</td>\n",
              "      <td>NaN</td>\n",
              "      <td>NaN</td>\n",
              "      <td>NaN</td>\n",
              "      <td>NaN</td>\n",
              "      <td>NaN</td>\n",
              "    </tr>\n",
              "    <tr>\n",
              "      <th>210</th>\n",
              "      <td>Zhytomyr</td>\n",
              "      <td>Ukraine</td>\n",
              "      <td>50.25</td>\n",
              "      <td>28.66</td>\n",
              "      <td>6.67</td>\n",
              "      <td>NaN</td>\n",
              "      <td>NaN</td>\n",
              "      <td>NaN</td>\n",
              "      <td>NaN</td>\n",
              "      <td>NaN</td>\n",
              "      <td>...</td>\n",
              "      <td>NaN</td>\n",
              "      <td>NaN</td>\n",
              "      <td>NaN</td>\n",
              "      <td>NaN</td>\n",
              "      <td>NaN</td>\n",
              "      <td>NaN</td>\n",
              "      <td>NaN</td>\n",
              "      <td>NaN</td>\n",
              "      <td>NaN</td>\n",
              "      <td>NaN</td>\n",
              "    </tr>\n",
              "    <tr>\n",
              "      <th>211</th>\n",
              "      <td>Zonguldak</td>\n",
              "      <td>Turkey</td>\n",
              "      <td>41.43</td>\n",
              "      <td>31.78</td>\n",
              "      <td>10.64</td>\n",
              "      <td>NaN</td>\n",
              "      <td>NaN</td>\n",
              "      <td>NaN</td>\n",
              "      <td>NaN</td>\n",
              "      <td>NaN</td>\n",
              "      <td>...</td>\n",
              "      <td>NaN</td>\n",
              "      <td>NaN</td>\n",
              "      <td>NaN</td>\n",
              "      <td>NaN</td>\n",
              "      <td>NaN</td>\n",
              "      <td>NaN</td>\n",
              "      <td>NaN</td>\n",
              "      <td>NaN</td>\n",
              "      <td>NaN</td>\n",
              "      <td>NaN</td>\n",
              "    </tr>\n",
              "    <tr>\n",
              "      <th>212</th>\n",
              "      <td>Zurich</td>\n",
              "      <td>Switzerland</td>\n",
              "      <td>47.38</td>\n",
              "      <td>8.56</td>\n",
              "      <td>6.68</td>\n",
              "      <td>NaN</td>\n",
              "      <td>NaN</td>\n",
              "      <td>NaN</td>\n",
              "      <td>NaN</td>\n",
              "      <td>NaN</td>\n",
              "      <td>...</td>\n",
              "      <td>NaN</td>\n",
              "      <td>NaN</td>\n",
              "      <td>NaN</td>\n",
              "      <td>NaN</td>\n",
              "      <td>NaN</td>\n",
              "      <td>NaN</td>\n",
              "      <td>NaN</td>\n",
              "      <td>NaN</td>\n",
              "      <td>NaN</td>\n",
              "      <td>NaN</td>\n",
              "    </tr>\n",
              "  </tbody>\n",
              "</table>\n",
              "<p>213 rows × 23 columns</p>\n",
              "</div>\n",
              "      <button class=\"colab-df-convert\" onclick=\"convertToInteractive('df-d76015d3-4eaa-4a7d-8b58-c7a2fcf601fb')\"\n",
              "              title=\"Convert this dataframe to an interactive table.\"\n",
              "              style=\"display:none;\">\n",
              "        \n",
              "  <svg xmlns=\"http://www.w3.org/2000/svg\" height=\"24px\"viewBox=\"0 0 24 24\"\n",
              "       width=\"24px\">\n",
              "    <path d=\"M0 0h24v24H0V0z\" fill=\"none\"/>\n",
              "    <path d=\"M18.56 5.44l.94 2.06.94-2.06 2.06-.94-2.06-.94-.94-2.06-.94 2.06-2.06.94zm-11 1L8.5 8.5l.94-2.06 2.06-.94-2.06-.94L8.5 2.5l-.94 2.06-2.06.94zm10 10l.94 2.06.94-2.06 2.06-.94-2.06-.94-.94-2.06-.94 2.06-2.06.94z\"/><path d=\"M17.41 7.96l-1.37-1.37c-.4-.4-.92-.59-1.43-.59-.52 0-1.04.2-1.43.59L10.3 9.45l-7.72 7.72c-.78.78-.78 2.05 0 2.83L4 21.41c.39.39.9.59 1.41.59.51 0 1.02-.2 1.41-.59l7.78-7.78 2.81-2.81c.8-.78.8-2.07 0-2.86zM5.41 20L4 18.59l7.72-7.72 1.47 1.35L5.41 20z\"/>\n",
              "  </svg>\n",
              "      </button>\n",
              "      \n",
              "  <style>\n",
              "    .colab-df-container {\n",
              "      display:flex;\n",
              "      flex-wrap:wrap;\n",
              "      gap: 12px;\n",
              "    }\n",
              "\n",
              "    .colab-df-convert {\n",
              "      background-color: #E8F0FE;\n",
              "      border: none;\n",
              "      border-radius: 50%;\n",
              "      cursor: pointer;\n",
              "      display: none;\n",
              "      fill: #1967D2;\n",
              "      height: 32px;\n",
              "      padding: 0 0 0 0;\n",
              "      width: 32px;\n",
              "    }\n",
              "\n",
              "    .colab-df-convert:hover {\n",
              "      background-color: #E2EBFA;\n",
              "      box-shadow: 0px 1px 2px rgba(60, 64, 67, 0.3), 0px 1px 3px 1px rgba(60, 64, 67, 0.15);\n",
              "      fill: #174EA6;\n",
              "    }\n",
              "\n",
              "    [theme=dark] .colab-df-convert {\n",
              "      background-color: #3B4455;\n",
              "      fill: #D2E3FC;\n",
              "    }\n",
              "\n",
              "    [theme=dark] .colab-df-convert:hover {\n",
              "      background-color: #434B5C;\n",
              "      box-shadow: 0px 1px 3px 1px rgba(0, 0, 0, 0.15);\n",
              "      filter: drop-shadow(0px 1px 2px rgba(0, 0, 0, 0.3));\n",
              "      fill: #FFFFFF;\n",
              "    }\n",
              "  </style>\n",
              "\n",
              "      <script>\n",
              "        const buttonEl =\n",
              "          document.querySelector('#df-d76015d3-4eaa-4a7d-8b58-c7a2fcf601fb button.colab-df-convert');\n",
              "        buttonEl.style.display =\n",
              "          google.colab.kernel.accessAllowed ? 'block' : 'none';\n",
              "\n",
              "        async function convertToInteractive(key) {\n",
              "          const element = document.querySelector('#df-d76015d3-4eaa-4a7d-8b58-c7a2fcf601fb');\n",
              "          const dataTable =\n",
              "            await google.colab.kernel.invokeFunction('convertToInteractive',\n",
              "                                                     [key], {});\n",
              "          if (!dataTable) return;\n",
              "\n",
              "          const docLinkHtml = 'Like what you see? Visit the ' +\n",
              "            '<a target=\"_blank\" href=https://colab.research.google.com/notebooks/data_table.ipynb>data table notebook</a>'\n",
              "            + ' to learn more about interactive tables.';\n",
              "          element.innerHTML = '';\n",
              "          dataTable['output_type'] = 'display_data';\n",
              "          await google.colab.output.renderOutput(dataTable, element);\n",
              "          const docLink = document.createElement('div');\n",
              "          docLink.innerHTML = docLinkHtml;\n",
              "          element.appendChild(docLink);\n",
              "        }\n",
              "      </script>\n",
              "    </div>\n",
              "  </div>\n",
              "  "
            ]
          },
          "metadata": {},
          "execution_count": 3
        }
      ],
      "source": [
        "df"
      ]
    },
    {
      "cell_type": "code",
      "execution_count": null,
      "metadata": {
        "colab": {
          "base_uri": "https://localhost:8080/",
          "height": 424
        },
        "id": "kFQYhfHrMYNu",
        "outputId": "55ddde56-ed4b-486b-8a31-578445a524ef"
      },
      "outputs": [
        {
          "output_type": "execute_result",
          "data": {
            "text/plain": [
              "     latitude  longitude\n",
              "0       57.03       9.92\n",
              "1       57.17      -2.08\n",
              "2       63.35      18.83\n",
              "3       36.99      35.32\n",
              "4       39.00      -1.87\n",
              "..        ...        ...\n",
              "208     45.20      33.36\n",
              "209     41.65      -0.89\n",
              "210     50.25      28.66\n",
              "211     41.43      31.78\n",
              "212     47.38       8.56\n",
              "\n",
              "[213 rows x 2 columns]"
            ],
            "text/html": [
              "\n",
              "  <div id=\"df-55d8293a-22c6-49f0-9d24-ebdc83393507\">\n",
              "    <div class=\"colab-df-container\">\n",
              "      <div>\n",
              "<style scoped>\n",
              "    .dataframe tbody tr th:only-of-type {\n",
              "        vertical-align: middle;\n",
              "    }\n",
              "\n",
              "    .dataframe tbody tr th {\n",
              "        vertical-align: top;\n",
              "    }\n",
              "\n",
              "    .dataframe thead th {\n",
              "        text-align: right;\n",
              "    }\n",
              "</style>\n",
              "<table border=\"1\" class=\"dataframe\">\n",
              "  <thead>\n",
              "    <tr style=\"text-align: right;\">\n",
              "      <th></th>\n",
              "      <th>latitude</th>\n",
              "      <th>longitude</th>\n",
              "    </tr>\n",
              "  </thead>\n",
              "  <tbody>\n",
              "    <tr>\n",
              "      <th>0</th>\n",
              "      <td>57.03</td>\n",
              "      <td>9.92</td>\n",
              "    </tr>\n",
              "    <tr>\n",
              "      <th>1</th>\n",
              "      <td>57.17</td>\n",
              "      <td>-2.08</td>\n",
              "    </tr>\n",
              "    <tr>\n",
              "      <th>2</th>\n",
              "      <td>63.35</td>\n",
              "      <td>18.83</td>\n",
              "    </tr>\n",
              "    <tr>\n",
              "      <th>3</th>\n",
              "      <td>36.99</td>\n",
              "      <td>35.32</td>\n",
              "    </tr>\n",
              "    <tr>\n",
              "      <th>4</th>\n",
              "      <td>39.00</td>\n",
              "      <td>-1.87</td>\n",
              "    </tr>\n",
              "    <tr>\n",
              "      <th>...</th>\n",
              "      <td>...</td>\n",
              "      <td>...</td>\n",
              "    </tr>\n",
              "    <tr>\n",
              "      <th>208</th>\n",
              "      <td>45.20</td>\n",
              "      <td>33.36</td>\n",
              "    </tr>\n",
              "    <tr>\n",
              "      <th>209</th>\n",
              "      <td>41.65</td>\n",
              "      <td>-0.89</td>\n",
              "    </tr>\n",
              "    <tr>\n",
              "      <th>210</th>\n",
              "      <td>50.25</td>\n",
              "      <td>28.66</td>\n",
              "    </tr>\n",
              "    <tr>\n",
              "      <th>211</th>\n",
              "      <td>41.43</td>\n",
              "      <td>31.78</td>\n",
              "    </tr>\n",
              "    <tr>\n",
              "      <th>212</th>\n",
              "      <td>47.38</td>\n",
              "      <td>8.56</td>\n",
              "    </tr>\n",
              "  </tbody>\n",
              "</table>\n",
              "<p>213 rows × 2 columns</p>\n",
              "</div>\n",
              "      <button class=\"colab-df-convert\" onclick=\"convertToInteractive('df-55d8293a-22c6-49f0-9d24-ebdc83393507')\"\n",
              "              title=\"Convert this dataframe to an interactive table.\"\n",
              "              style=\"display:none;\">\n",
              "        \n",
              "  <svg xmlns=\"http://www.w3.org/2000/svg\" height=\"24px\"viewBox=\"0 0 24 24\"\n",
              "       width=\"24px\">\n",
              "    <path d=\"M0 0h24v24H0V0z\" fill=\"none\"/>\n",
              "    <path d=\"M18.56 5.44l.94 2.06.94-2.06 2.06-.94-2.06-.94-.94-2.06-.94 2.06-2.06.94zm-11 1L8.5 8.5l.94-2.06 2.06-.94-2.06-.94L8.5 2.5l-.94 2.06-2.06.94zm10 10l.94 2.06.94-2.06 2.06-.94-2.06-.94-.94-2.06-.94 2.06-2.06.94z\"/><path d=\"M17.41 7.96l-1.37-1.37c-.4-.4-.92-.59-1.43-.59-.52 0-1.04.2-1.43.59L10.3 9.45l-7.72 7.72c-.78.78-.78 2.05 0 2.83L4 21.41c.39.39.9.59 1.41.59.51 0 1.02-.2 1.41-.59l7.78-7.78 2.81-2.81c.8-.78.8-2.07 0-2.86zM5.41 20L4 18.59l7.72-7.72 1.47 1.35L5.41 20z\"/>\n",
              "  </svg>\n",
              "      </button>\n",
              "      \n",
              "  <style>\n",
              "    .colab-df-container {\n",
              "      display:flex;\n",
              "      flex-wrap:wrap;\n",
              "      gap: 12px;\n",
              "    }\n",
              "\n",
              "    .colab-df-convert {\n",
              "      background-color: #E8F0FE;\n",
              "      border: none;\n",
              "      border-radius: 50%;\n",
              "      cursor: pointer;\n",
              "      display: none;\n",
              "      fill: #1967D2;\n",
              "      height: 32px;\n",
              "      padding: 0 0 0 0;\n",
              "      width: 32px;\n",
              "    }\n",
              "\n",
              "    .colab-df-convert:hover {\n",
              "      background-color: #E2EBFA;\n",
              "      box-shadow: 0px 1px 2px rgba(60, 64, 67, 0.3), 0px 1px 3px 1px rgba(60, 64, 67, 0.15);\n",
              "      fill: #174EA6;\n",
              "    }\n",
              "\n",
              "    [theme=dark] .colab-df-convert {\n",
              "      background-color: #3B4455;\n",
              "      fill: #D2E3FC;\n",
              "    }\n",
              "\n",
              "    [theme=dark] .colab-df-convert:hover {\n",
              "      background-color: #434B5C;\n",
              "      box-shadow: 0px 1px 3px 1px rgba(0, 0, 0, 0.15);\n",
              "      filter: drop-shadow(0px 1px 2px rgba(0, 0, 0, 0.3));\n",
              "      fill: #FFFFFF;\n",
              "    }\n",
              "  </style>\n",
              "\n",
              "      <script>\n",
              "        const buttonEl =\n",
              "          document.querySelector('#df-55d8293a-22c6-49f0-9d24-ebdc83393507 button.colab-df-convert');\n",
              "        buttonEl.style.display =\n",
              "          google.colab.kernel.accessAllowed ? 'block' : 'none';\n",
              "\n",
              "        async function convertToInteractive(key) {\n",
              "          const element = document.querySelector('#df-55d8293a-22c6-49f0-9d24-ebdc83393507');\n",
              "          const dataTable =\n",
              "            await google.colab.kernel.invokeFunction('convertToInteractive',\n",
              "                                                     [key], {});\n",
              "          if (!dataTable) return;\n",
              "\n",
              "          const docLinkHtml = 'Like what you see? Visit the ' +\n",
              "            '<a target=\"_blank\" href=https://colab.research.google.com/notebooks/data_table.ipynb>data table notebook</a>'\n",
              "            + ' to learn more about interactive tables.';\n",
              "          element.innerHTML = '';\n",
              "          dataTable['output_type'] = 'display_data';\n",
              "          await google.colab.output.renderOutput(dataTable, element);\n",
              "          const docLink = document.createElement('div');\n",
              "          docLink.innerHTML = docLinkHtml;\n",
              "          element.appendChild(docLink);\n",
              "        }\n",
              "      </script>\n",
              "    </div>\n",
              "  </div>\n",
              "  "
            ]
          },
          "metadata": {},
          "execution_count": 4
        }
      ],
      "source": [
        "x = df[ ['latitude', 'longitude'] ] \n",
        "x"
      ]
    },
    {
      "cell_type": "code",
      "execution_count": null,
      "metadata": {
        "id": "VMGibU3JMoII"
      },
      "outputs": [],
      "source": [
        "import seaborn as sns # สร้างกราฟแบบอัติโนมัติ\n",
        "import matplotlib.pyplot as plt # สำหรับปรับแต่งกราฟแบบ manual"
      ]
    },
    {
      "cell_type": "code",
      "execution_count": null,
      "metadata": {
        "colab": {
          "base_uri": "https://localhost:8080/",
          "height": 386
        },
        "id": "yfM5iqXRMpc_",
        "outputId": "b848e571-e67d-45b2-9134-21f2a00f2ce9"
      },
      "outputs": [
        {
          "output_type": "execute_result",
          "data": {
            "text/plain": [
              "<seaborn.axisgrid.FacetGrid at 0x7fafeffe4f90>"
            ]
          },
          "metadata": {},
          "execution_count": 6
        },
        {
          "output_type": "display_data",
          "data": {
            "text/plain": [
              "<Figure size 504x360 with 1 Axes>"
            ],
            "image/png": "[encoded data removed]"
          },
          "metadata": {
            "needs_background": "light"
          }
        }
      ],
      "source": [
        "sns.relplot(data=x, x='latitude', y='longitude',\n",
        "            height=5, aspect=1.4)"
      ]
    },
    {
      "cell_type": "code",
      "execution_count": null,
      "metadata": {
        "id": "kmSU72EbMpaZ"
      },
      "outputs": [],
      "source": [
        "from sklearn.cluster import KMeans"
      ]
    },
    {
      "cell_type": "code",
      "execution_count": null,
      "metadata": {
        "colab": {
          "base_uri": "https://localhost:8080/"
        },
        "id": "n1DlQu_oMpYB",
        "outputId": "4a26e7f4-4984-4bb3-db60-e963b1003a15"
      },
      "outputs": [
        {
          "output_type": "execute_result",
          "data": {
            "text/plain": [
              "KMeans(n_clusters=5)"
            ]
          },
          "metadata": {},
          "execution_count": 8
        }
      ],
      "source": [
        "km = KMeans( n_clusters=5 )\n",
        "km.fit(x)"
      ]
    },
    {
      "cell_type": "code",
      "execution_count": null,
      "metadata": {
        "colab": {
          "base_uri": "https://localhost:8080/"
        },
        "id": "C2DsnxhuMpVs",
        "outputId": "a2dc85e3-dc72-4e1c-a0ef-63c518ca3a7b"
      },
      "outputs": [
        {
          "output_type": "execute_result",
          "data": {
            "text/plain": [
              "array([0, 4, 2, 1, 4, 4, 0, 0, 3, 4, 4, 1, 1, 3, 3, 0, 1, 4, 3, 1, 4, 3,\n",
              "       0, 1, 4, 3, 0, 0, 0, 2, 0, 1, 4, 4, 4, 2, 0, 0, 4, 1, 4, 4, 4, 1,\n",
              "       3, 0, 4, 2, 3, 0, 1, 3, 1, 4, 1, 2, 3, 4, 4, 4, 3, 0, 1, 1, 1, 1,\n",
              "       1, 4, 3, 3, 2, 3, 1, 0, 4, 4, 4, 1, 3, 2, 0, 1, 1, 1, 4, 3, 0, 0,\n",
              "       4, 1, 0, 0, 4, 0, 4, 3, 0, 0, 3, 0, 2, 1, 2, 4, 0, 0, 4, 1, 3, 1,\n",
              "       0, 2, 1, 1, 2, 1, 2, 2, 3, 2, 1, 1, 4, 0, 4, 3, 4, 3, 2, 0, 4, 0,\n",
              "       1, 1, 0, 1, 4, 0, 2, 3, 0, 0, 2, 4, 0, 4, 0, 3, 3, 0, 1, 2, 0, 3,\n",
              "       2, 4, 3, 3, 4, 3, 3, 2, 3, 3, 3, 2, 0, 0, 2, 3, 2, 3, 0, 1, 4, 0,\n",
              "       1, 4, 3, 3, 1, 1, 3, 3, 1, 0, 2, 1, 4, 3, 2, 2, 1, 2, 1, 4, 1, 3,\n",
              "       3, 0, 2, 2, 4, 3, 4, 2, 2, 3, 1, 4, 1, 1, 0], dtype=int32)"
            ]
          },
          "metadata": {},
          "execution_count": 9
        }
      ],
      "source": [
        "km.labels_ # number of group 0 - 4 (5 group)"
      ]
    },
    {
      "cell_type": "code",
      "execution_count": null,
      "metadata": {
        "colab": {
          "base_uri": "https://localhost:8080/"
        },
        "id": "c14LXw1pMpS1",
        "outputId": "5140fd93-70b4-44f7-fb44-39a1e5bed97b"
      },
      "outputs": [
        {
          "output_type": "execute_result",
          "data": {
            "text/plain": [
              "array([[50.63777778,  8.58088889],\n",
              "       [43.18617021, 32.30148936],\n",
              "       [56.44580645, 22.72387097],\n",
              "       [44.14613636, 18.32272727],\n",
              "       [46.01695652, -3.04826087]])"
            ]
          },
          "metadata": {},
          "execution_count": 10
        }
      ],
      "source": [
        "km.cluster_centers_ # point center of each group (0-4)"
      ]
    },
    {
      "cell_type": "code",
      "execution_count": null,
      "metadata": {
        "id": "7kxZ29E5MpQN"
      },
      "outputs": [],
      "source": [
        "df = df.iloc[:,0:5] # choose column 0-5"
      ]
    },
    {
      "cell_type": "code",
      "execution_count": null,
      "metadata": {
        "id": "ioOM5-AKSFBL"
      },
      "outputs": [],
      "source": [
        "df['kmean'] = pd.Series(km.labels_, dtype='category')"
      ]
    },
    {
      "cell_type": "code",
      "execution_count": null,
      "metadata": {
        "colab": {
          "base_uri": "https://localhost:8080/"
        },
        "id": "VI6FkiR_MpNp",
        "outputId": "259ca879-150a-4a53-f3dd-2ae4f4ab40d8"
      },
      "outputs": [
        {
          "output_type": "execute_result",
          "data": {
            "text/plain": [
              "0      0\n",
              "1      4\n",
              "2      2\n",
              "3      1\n",
              "4      4\n",
              "      ..\n",
              "208    1\n",
              "209    4\n",
              "210    1\n",
              "211    1\n",
              "212    0\n",
              "Name: kmean, Length: 213, dtype: category\n",
              "Categories (5, int64): [0, 1, 2, 3, 4]"
            ]
          },
          "metadata": {},
          "execution_count": 13
        }
      ],
      "source": [
        "df['kmean']"
      ]
    },
    {
      "cell_type": "code",
      "execution_count": null,
      "metadata": {
        "colab": {
          "base_uri": "https://localhost:8080/",
          "height": 424
        },
        "id": "HclfeAgCMpLC",
        "outputId": "5e77347a-4b1a-4dc0-c476-c7275b3ba6e1"
      },
      "outputs": [
        {
          "output_type": "execute_result",
          "data": {
            "text/plain": [
              "            city         country  latitude  longitude  temperature kmean\n",
              "0        Aalborg         Denmark     57.03       9.92         7.52     0\n",
              "1       Aberdeen  United Kingdom     57.17      -2.08         8.10     4\n",
              "2         Abisko          Sweden     63.35      18.83         0.20     2\n",
              "3          Adana          Turkey     36.99      35.32        18.67     1\n",
              "4       Albacete           Spain     39.00      -1.87        12.62     4\n",
              "..           ...             ...       ...        ...          ...   ...\n",
              "208  Yevpatoriya         Ukraine     45.20      33.36        10.02     1\n",
              "209     Zaragoza           Spain     41.65      -0.89        14.17     4\n",
              "210     Zhytomyr         Ukraine     50.25      28.66         6.67     1\n",
              "211    Zonguldak          Turkey     41.43      31.78        10.64     1\n",
              "212       Zurich     Switzerland     47.38       8.56         6.68     0\n",
              "\n",
              "[213 rows x 6 columns]"
            ],
            "text/html": [
              "\n",
              "  <div id=\"df-122cbaf9-da42-4b20-a92b-6294156117a4\">\n",
              "    <div class=\"colab-df-container\">\n",
              "      <div>\n",
              "<style scoped>\n",
              "    .dataframe tbody tr th:only-of-type {\n",
              "        vertical-align: middle;\n",
              "    }\n",
              "\n",
              "    .dataframe tbody tr th {\n",
              "        vertical-align: top;\n",
              "    }\n",
              "\n",
              "    .dataframe thead th {\n",
              "        text-align: right;\n",
              "    }\n",
              "</style>\n",
              "<table border=\"1\" class=\"dataframe\">\n",
              "  <thead>\n",
              "    <tr style=\"text-align: right;\">\n",
              "      <th></th>\n",
              "      <th>city</th>\n",
              "      <th>country</th>\n",
              "      <th>latitude</th>\n",
              "      <th>longitude</th>\n",
              "      <th>temperature</th>\n",
              "      <th>kmean</th>\n",
              "    </tr>\n",
              "  </thead>\n",
              "  <tbody>\n",
              "    <tr>\n",
              "      <th>0</th>\n",
              "      <td>Aalborg</td>\n",
              "      <td>Denmark</td>\n",
              "      <td>57.03</td>\n",
              "      <td>9.92</td>\n",
              "      <td>7.52</td>\n",
              "      <td>0</td>\n",
              "    </tr>\n",
              "    <tr>\n",
              "      <th>1</th>\n",
              "      <td>Aberdeen</td>\n",
              "      <td>United Kingdom</td>\n",
              "      <td>57.17</td>\n",
              "      <td>-2.08</td>\n",
              "      <td>8.10</td>\n",
              "      <td>4</td>\n",
              "    </tr>\n",
              "    <tr>\n",
              "      <th>2</th>\n",
              "      <td>Abisko</td>\n",
              "      <td>Sweden</td>\n",
              "      <td>63.35</td>\n",
              "      <td>18.83</td>\n",
              "      <td>0.20</td>\n",
              "      <td>2</td>\n",
              "    </tr>\n",
              "    <tr>\n",
              "      <th>3</th>\n",
              "      <td>Adana</td>\n",
              "      <td>Turkey</td>\n",
              "      <td>36.99</td>\n",
              "      <td>35.32</td>\n",
              "      <td>18.67</td>\n",
              "      <td>1</td>\n",
              "    </tr>\n",
              "    <tr>\n",
              "      <th>4</th>\n",
              "      <td>Albacete</td>\n",
              "      <td>Spain</td>\n",
              "      <td>39.00</td>\n",
              "      <td>-1.87</td>\n",
              "      <td>12.62</td>\n",
              "      <td>4</td>\n",
              "    </tr>\n",
              "    <tr>\n",
              "      <th>...</th>\n",
              "      <td>...</td>\n",
              "      <td>...</td>\n",
              "      <td>...</td>\n",
              "      <td>...</td>\n",
              "      <td>...</td>\n",
              "      <td>...</td>\n",
              "    </tr>\n",
              "    <tr>\n",
              "      <th>208</th>\n",
              "      <td>Yevpatoriya</td>\n",
              "      <td>Ukraine</td>\n",
              "      <td>45.20</td>\n",
              "      <td>33.36</td>\n",
              "      <td>10.02</td>\n",
              "      <td>1</td>\n",
              "    </tr>\n",
              "    <tr>\n",
              "      <th>209</th>\n",
              "      <td>Zaragoza</td>\n",
              "      <td>Spain</td>\n",
              "      <td>41.65</td>\n",
              "      <td>-0.89</td>\n",
              "      <td>14.17</td>\n",
              "      <td>4</td>\n",
              "    </tr>\n",
              "    <tr>\n",
              "      <th>210</th>\n",
              "      <td>Zhytomyr</td>\n",
              "      <td>Ukraine</td>\n",
              "      <td>50.25</td>\n",
              "      <td>28.66</td>\n",
              "      <td>6.67</td>\n",
              "      <td>1</td>\n",
              "    </tr>\n",
              "    <tr>\n",
              "      <th>211</th>\n",
              "      <td>Zonguldak</td>\n",
              "      <td>Turkey</td>\n",
              "      <td>41.43</td>\n",
              "      <td>31.78</td>\n",
              "      <td>10.64</td>\n",
              "      <td>1</td>\n",
              "    </tr>\n",
              "    <tr>\n",
              "      <th>212</th>\n",
              "      <td>Zurich</td>\n",
              "      <td>Switzerland</td>\n",
              "      <td>47.38</td>\n",
              "      <td>8.56</td>\n",
              "      <td>6.68</td>\n",
              "      <td>0</td>\n",
              "    </tr>\n",
              "  </tbody>\n",
              "</table>\n",
              "<p>213 rows × 6 columns</p>\n",
              "</div>\n",
              "      <button class=\"colab-df-convert\" onclick=\"convertToInteractive('df-122cbaf9-da42-4b20-a92b-6294156117a4')\"\n",
              "              title=\"Convert this dataframe to an interactive table.\"\n",
              "              style=\"display:none;\">\n",
              "        \n",
              "  <svg xmlns=\"http://www.w3.org/2000/svg\" height=\"24px\"viewBox=\"0 0 24 24\"\n",
              "       width=\"24px\">\n",
              "    <path d=\"M0 0h24v24H0V0z\" fill=\"none\"/>\n",
              "    <path d=\"M18.56 5.44l.94 2.06.94-2.06 2.06-.94-2.06-.94-.94-2.06-.94 2.06-2.06.94zm-11 1L8.5 8.5l.94-2.06 2.06-.94-2.06-.94L8.5 2.5l-.94 2.06-2.06.94zm10 10l.94 2.06.94-2.06 2.06-.94-2.06-.94-.94-2.06-.94 2.06-2.06.94z\"/><path d=\"M17.41 7.96l-1.37-1.37c-.4-.4-.92-.59-1.43-.59-.52 0-1.04.2-1.43.59L10.3 9.45l-7.72 7.72c-.78.78-.78 2.05 0 2.83L4 21.41c.39.39.9.59 1.41.59.51 0 1.02-.2 1.41-.59l7.78-7.78 2.81-2.81c.8-.78.8-2.07 0-2.86zM5.41 20L4 18.59l7.72-7.72 1.47 1.35L5.41 20z\"/>\n",
              "  </svg>\n",
              "      </button>\n",
              "      \n",
              "  <style>\n",
              "    .colab-df-container {\n",
              "      display:flex;\n",
              "      flex-wrap:wrap;\n",
              "      gap: 12px;\n",
              "    }\n",
              "\n",
              "    .colab-df-convert {\n",
              "      background-color: #E8F0FE;\n",
              "      border: none;\n",
              "      border-radius: 50%;\n",
              "      cursor: pointer;\n",
              "      display: none;\n",
              "      fill: #1967D2;\n",
              "      height: 32px;\n",
              "      padding: 0 0 0 0;\n",
              "      width: 32px;\n",
              "    }\n",
              "\n",
              "    .colab-df-convert:hover {\n",
              "      background-color: #E2EBFA;\n",
              "      box-shadow: 0px 1px 2px rgba(60, 64, 67, 0.3), 0px 1px 3px 1px rgba(60, 64, 67, 0.15);\n",
              "      fill: #174EA6;\n",
              "    }\n",
              "\n",
              "    [theme=dark] .colab-df-convert {\n",
              "      background-color: #3B4455;\n",
              "      fill: #D2E3FC;\n",
              "    }\n",
              "\n",
              "    [theme=dark] .colab-df-convert:hover {\n",
              "      background-color: #434B5C;\n",
              "      box-shadow: 0px 1px 3px 1px rgba(0, 0, 0, 0.15);\n",
              "      filter: drop-shadow(0px 1px 2px rgba(0, 0, 0, 0.3));\n",
              "      fill: #FFFFFF;\n",
              "    }\n",
              "  </style>\n",
              "\n",
              "      <script>\n",
              "        const buttonEl =\n",
              "          document.querySelector('#df-122cbaf9-da42-4b20-a92b-6294156117a4 button.colab-df-convert');\n",
              "        buttonEl.style.display =\n",
              "          google.colab.kernel.accessAllowed ? 'block' : 'none';\n",
              "\n",
              "        async function convertToInteractive(key) {\n",
              "          const element = document.querySelector('#df-122cbaf9-da42-4b20-a92b-6294156117a4');\n",
              "          const dataTable =\n",
              "            await google.colab.kernel.invokeFunction('convertToInteractive',\n",
              "                                                     [key], {});\n",
              "          if (!dataTable) return;\n",
              "\n",
              "          const docLinkHtml = 'Like what you see? Visit the ' +\n",
              "            '<a target=\"_blank\" href=https://colab.research.google.com/notebooks/data_table.ipynb>data table notebook</a>'\n",
              "            + ' to learn more about interactive tables.';\n",
              "          element.innerHTML = '';\n",
              "          dataTable['output_type'] = 'display_data';\n",
              "          await google.colab.output.renderOutput(dataTable, element);\n",
              "          const docLink = document.createElement('div');\n",
              "          docLink.innerHTML = docLinkHtml;\n",
              "          element.appendChild(docLink);\n",
              "        }\n",
              "      </script>\n",
              "    </div>\n",
              "  </div>\n",
              "  "
            ]
          },
          "metadata": {},
          "execution_count": 14
        }
      ],
      "source": [
        "df"
      ]
    },
    {
      "cell_type": "code",
      "execution_count": null,
      "metadata": {
        "colab": {
          "base_uri": "https://localhost:8080/",
          "height": 386
        },
        "id": "lEkSLl1HMpIv",
        "outputId": "788ba22c-1fdb-42ff-bdf3-e68f23529793"
      },
      "outputs": [
        {
          "output_type": "execute_result",
          "data": {
            "text/plain": [
              "<seaborn.axisgrid.FacetGrid at 0x7fafe1521290>"
            ]
          },
          "metadata": {},
          "execution_count": 15
        },
        {
          "output_type": "display_data",
          "data": {
            "text/plain": [
              "<Figure size 546.375x360 with 1 Axes>"
            ],
            "image/png": "[encoded data removed]"
          },
          "metadata": {
            "needs_background": "light"
          }
        }
      ],
      "source": [
        "sns.relplot(data=df, x='longitude', y='latitude', hue='kmean',\n",
        "            height=5, aspect=1.4)"
      ]
    },
    {
      "cell_type": "code",
      "execution_count": null,
      "metadata": {
        "colab": {
          "base_uri": "https://localhost:8080/",
          "height": 206
        },
        "id": "l0jaEe7FMpGI",
        "outputId": "627920e2-8bdc-42a3-d7d9-627deb4a65bb"
      },
      "outputs": [
        {
          "output_type": "execute_result",
          "data": {
            "text/plain": [
              "   longitude   latitude\n",
              "0  50.637778   8.580889\n",
              "1  43.186170  32.301489\n",
              "2  56.445806  22.723871\n",
              "3  44.146136  18.322727\n",
              "4  46.016957  -3.048261"
            ],
            "text/html": [
              "\n",
              "  <div id=\"df-1b878cda-ad8c-4daa-98d4-ffce8b8cc5b7\">\n",
              "    <div class=\"colab-df-container\">\n",
              "      <div>\n",
              "<style scoped>\n",
              "    .dataframe tbody tr th:only-of-type {\n",
              "        vertical-align: middle;\n",
              "    }\n",
              "\n",
              "    .dataframe tbody tr th {\n",
              "        vertical-align: top;\n",
              "    }\n",
              "\n",
              "    .dataframe thead th {\n",
              "        text-align: right;\n",
              "    }\n",
              "</style>\n",
              "<table border=\"1\" class=\"dataframe\">\n",
              "  <thead>\n",
              "    <tr style=\"text-align: right;\">\n",
              "      <th></th>\n",
              "      <th>longitude</th>\n",
              "      <th>latitude</th>\n",
              "    </tr>\n",
              "  </thead>\n",
              "  <tbody>\n",
              "    <tr>\n",
              "      <th>0</th>\n",
              "      <td>50.637778</td>\n",
              "      <td>8.580889</td>\n",
              "    </tr>\n",
              "    <tr>\n",
              "      <th>1</th>\n",
              "      <td>43.186170</td>\n",
              "      <td>32.301489</td>\n",
              "    </tr>\n",
              "    <tr>\n",
              "      <th>2</th>\n",
              "      <td>56.445806</td>\n",
              "      <td>22.723871</td>\n",
              "    </tr>\n",
              "    <tr>\n",
              "      <th>3</th>\n",
              "      <td>44.146136</td>\n",
              "      <td>18.322727</td>\n",
              "    </tr>\n",
              "    <tr>\n",
              "      <th>4</th>\n",
              "      <td>46.016957</td>\n",
              "      <td>-3.048261</td>\n",
              "    </tr>\n",
              "  </tbody>\n",
              "</table>\n",
              "</div>\n",
              "      <button class=\"colab-df-convert\" onclick=\"convertToInteractive('df-1b878cda-ad8c-4daa-98d4-ffce8b8cc5b7')\"\n",
              "              title=\"Convert this dataframe to an interactive table.\"\n",
              "              style=\"display:none;\">\n",
              "        \n",
              "  <svg xmlns=\"http://www.w3.org/2000/svg\" height=\"24px\"viewBox=\"0 0 24 24\"\n",
              "       width=\"24px\">\n",
              "    <path d=\"M0 0h24v24H0V0z\" fill=\"none\"/>\n",
              "    <path d=\"M18.56 5.44l.94 2.06.94-2.06 2.06-.94-2.06-.94-.94-2.06-.94 2.06-2.06.94zm-11 1L8.5 8.5l.94-2.06 2.06-.94-2.06-.94L8.5 2.5l-.94 2.06-2.06.94zm10 10l.94 2.06.94-2.06 2.06-.94-2.06-.94-.94-2.06-.94 2.06-2.06.94z\"/><path d=\"M17.41 7.96l-1.37-1.37c-.4-.4-.92-.59-1.43-.59-.52 0-1.04.2-1.43.59L10.3 9.45l-7.72 7.72c-.78.78-.78 2.05 0 2.83L4 21.41c.39.39.9.59 1.41.59.51 0 1.02-.2 1.41-.59l7.78-7.78 2.81-2.81c.8-.78.8-2.07 0-2.86zM5.41 20L4 18.59l7.72-7.72 1.47 1.35L5.41 20z\"/>\n",
              "  </svg>\n",
              "      </button>\n",
              "      \n",
              "  <style>\n",
              "    .colab-df-container {\n",
              "      display:flex;\n",
              "      flex-wrap:wrap;\n",
              "      gap: 12px;\n",
              "    }\n",
              "\n",
              "    .colab-df-convert {\n",
              "      background-color: #E8F0FE;\n",
              "      border: none;\n",
              "      border-radius: 50%;\n",
              "      cursor: pointer;\n",
              "      display: none;\n",
              "      fill: #1967D2;\n",
              "      height: 32px;\n",
              "      padding: 0 0 0 0;\n",
              "      width: 32px;\n",
              "    }\n",
              "\n",
              "    .colab-df-convert:hover {\n",
              "      background-color: #E2EBFA;\n",
              "      box-shadow: 0px 1px 2px rgba(60, 64, 67, 0.3), 0px 1px 3px 1px rgba(60, 64, 67, 0.15);\n",
              "      fill: #174EA6;\n",
              "    }\n",
              "\n",
              "    [theme=dark] .colab-df-convert {\n",
              "      background-color: #3B4455;\n",
              "      fill: #D2E3FC;\n",
              "    }\n",
              "\n",
              "    [theme=dark] .colab-df-convert:hover {\n",
              "      background-color: #434B5C;\n",
              "      box-shadow: 0px 1px 3px 1px rgba(0, 0, 0, 0.15);\n",
              "      filter: drop-shadow(0px 1px 2px rgba(0, 0, 0, 0.3));\n",
              "      fill: #FFFFFF;\n",
              "    }\n",
              "  </style>\n",
              "\n",
              "      <script>\n",
              "        const buttonEl =\n",
              "          document.querySelector('#df-1b878cda-ad8c-4daa-98d4-ffce8b8cc5b7 button.colab-df-convert');\n",
              "        buttonEl.style.display =\n",
              "          google.colab.kernel.accessAllowed ? 'block' : 'none';\n",
              "\n",
              "        async function convertToInteractive(key) {\n",
              "          const element = document.querySelector('#df-1b878cda-ad8c-4daa-98d4-ffce8b8cc5b7');\n",
              "          const dataTable =\n",
              "            await google.colab.kernel.invokeFunction('convertToInteractive',\n",
              "                                                     [key], {});\n",
              "          if (!dataTable) return;\n",
              "\n",
              "          const docLinkHtml = 'Like what you see? Visit the ' +\n",
              "            '<a target=\"_blank\" href=https://colab.research.google.com/notebooks/data_table.ipynb>data table notebook</a>'\n",
              "            + ' to learn more about interactive tables.';\n",
              "          element.innerHTML = '';\n",
              "          dataTable['output_type'] = 'display_data';\n",
              "          await google.colab.output.renderOutput(dataTable, element);\n",
              "          const docLink = document.createElement('div');\n",
              "          docLink.innerHTML = docLinkHtml;\n",
              "          element.appendChild(docLink);\n",
              "        }\n",
              "      </script>\n",
              "    </div>\n",
              "  </div>\n",
              "  "
            ]
          },
          "metadata": {},
          "execution_count": 16
        }
      ],
      "source": [
        "pd.DataFrame(km.cluster_centers_,\n",
        "             columns=['longitude','latitude'])"
      ]
    },
    {
      "cell_type": "code",
      "execution_count": null,
      "metadata": {
        "id": "rzFPLR04MpD-"
      },
      "outputs": [],
      "source": [
        "centers = pd.DataFrame(km.cluster_centers_, \n",
        "                       columns=['latitude','longitude'])"
      ]
    },
    {
      "cell_type": "code",
      "execution_count": null,
      "metadata": {
        "colab": {
          "base_uri": "https://localhost:8080/",
          "height": 386
        },
        "id": "u0Br48vNMo-5",
        "outputId": "947472af-49a4-4a90-e164-644f02a21532"
      },
      "outputs": [
        {
          "output_type": "execute_result",
          "data": {
            "text/plain": [
              "<matplotlib.collections.PathCollection at 0x7fafdc69a3d0>"
            ]
          },
          "metadata": {},
          "execution_count": 18
        },
        {
          "output_type": "display_data",
          "data": {
            "text/plain": [
              "<Figure size 546.375x360 with 1 Axes>"
            ],
            "image/png": "[encoded data removed]"
          },
          "metadata": {
            "needs_background": "light"
          }
        }
      ],
      "source": [
        "sns.relplot(data=df, x='longitude', y='latitude', hue='kmean', \n",
        "            height=5, aspect=1.4)\n",
        "\n",
        "plt.scatter(centers['longitude'], centers['latitude'],\n",
        "            marker='*', color='gray', s=300)"
      ]
    },
    {
      "cell_type": "code",
      "execution_count": null,
      "metadata": {
        "colab": {
          "base_uri": "https://localhost:8080/"
        },
        "id": "KK8AFwZWMo0-",
        "outputId": "69b19b89-f6a9-4ac8-e480-c1a7f8511fa4"
      },
      "outputs": [
        {
          "output_type": "execute_result",
          "data": {
            "text/plain": [
              "8201.426889619484"
            ]
          },
          "metadata": {},
          "execution_count": 19
        }
      ],
      "source": [
        "km.inertia_"
      ]
    },
    {
      "cell_type": "code",
      "execution_count": null,
      "metadata": {
        "id": "InSkcvOrcIl_"
      },
      "outputs": [],
      "source": [
        "km.inertia = KMeans(n_clusters=5, n_init=1000)"
      ]
    },
    {
      "cell_type": "code",
      "execution_count": null,
      "metadata": {
        "colab": {
          "base_uri": "https://localhost:8080/"
        },
        "id": "-8SiNYWUcXYv",
        "outputId": "06283aaa-9559-4dd9-d3b0-910e17c5360b"
      },
      "outputs": [
        {
          "output_type": "execute_result",
          "data": {
            "text/plain": [
              "KMeans(n_clusters=5, n_init=1000)"
            ]
          },
          "metadata": {},
          "execution_count": 21
        }
      ],
      "source": [
        "km.inertia.fit(x)"
      ]
    },
    {
      "cell_type": "code",
      "execution_count": null,
      "metadata": {
        "colab": {
          "base_uri": "https://localhost:8080/"
        },
        "id": "do3cGs75cdDX",
        "outputId": "bf75bae4-e583-47ee-f3c7-a33747cf70db"
      },
      "outputs": [
        {
          "output_type": "execute_result",
          "data": {
            "text/plain": [
              "8201.426889619484"
            ]
          },
          "metadata": {},
          "execution_count": 22
        }
      ],
      "source": [
        "km.inertia.inertia_"
      ]
    },
    {
      "cell_type": "markdown",
      "metadata": {
        "id": "qP1Myswidg5w"
      },
      "source": [
        "# Find The Best k-value"
      ]
    },
    {
      "cell_type": "code",
      "execution_count": null,
      "metadata": {
        "id": "-B2r4IkPckcL"
      },
      "outputs": [],
      "source": [
        "results = []\n",
        "for k in range(2,12):\n",
        "  km_search = KMeans(n_clusters=k, n_init=1000)\n",
        "  km_search.fit(x)\n",
        "  results.append( (k, km_search.inertia_) )"
      ]
    },
    {
      "cell_type": "code",
      "execution_count": null,
      "metadata": {
        "id": "qpLsND9VckZg"
      },
      "outputs": [],
      "source": [
        "k_inertia_df = pd.DataFrame(results, columns=['k','inertia'])"
      ]
    },
    {
      "cell_type": "code",
      "execution_count": null,
      "metadata": {
        "colab": {
          "base_uri": "https://localhost:8080/",
          "height": 386
        },
        "id": "6EUuVPPickXB",
        "outputId": "6b6352f9-b07c-4f98-95c6-0bcd7dcaa010"
      },
      "outputs": [
        {
          "output_type": "execute_result",
          "data": {
            "text/plain": [
              "<seaborn.axisgrid.FacetGrid at 0x7fafdc2ce610>"
            ]
          },
          "metadata": {},
          "execution_count": 38
        },
        {
          "output_type": "display_data",
          "data": {
            "text/plain": [
              "<Figure size 360x360 with 1 Axes>"
            ],
            "image/png": "[encoded data removed]"
          },
          "metadata": {
            "needs_background": "light"
          }
        }
      ],
      "source": [
        "sns.relplot(data=k_inertia_df, x='k', y='inertia', kind='line')"
      ]
    },
    {
      "cell_type": "code",
      "execution_count": null,
      "metadata": {
        "id": "pTzsPFY_ckUa"
      },
      "outputs": [],
      "source": [
        "from sklearn.metrics import silhouette_score, silhouette_samples"
      ]
    },
    {
      "cell_type": "code",
      "execution_count": null,
      "metadata": {
        "colab": {
          "base_uri": "https://localhost:8080/"
        },
        "id": "iuTdRQ5hckRZ",
        "outputId": "3e18a724-573a-4366-b179-39750405bd7e"
      },
      "outputs": [
        {
          "output_type": "execute_result",
          "data": {
            "text/plain": [
              "0.36381857133536355"
            ]
          },
          "metadata": {},
          "execution_count": 40
        }
      ],
      "source": [
        "silhouette_score(x, km.labels_)"
      ]
    },
    {
      "cell_type": "code",
      "execution_count": null,
      "metadata": {
        "colab": {
          "base_uri": "https://localhost:8080/"
        },
        "id": "_0YTKEbdckOy",
        "outputId": "e1fa706f-e235-4bf2-cc72-b30b4c3a4bbd"
      },
      "outputs": [
        {
          "output_type": "execute_result",
          "data": {
            "text/plain": [
              "array([ 4.15209018e-01,  9.82307561e-02,  4.24347843e-01,  5.37450069e-01,\n",
              "        4.46781627e-01,  4.54611782e-01,  1.42657742e-01,  4.57214512e-01,\n",
              "        3.05782844e-01,  2.59534253e-01,  2.99614209e-01,  5.57158947e-01,\n",
              "        4.18789110e-01,  4.74943597e-01,  1.75137645e-01,  3.96032925e-01,\n",
              "        1.70077819e-01,  5.07331729e-01,  2.09427530e-01,  2.48424864e-01,\n",
              "        2.21087089e-01,  5.52192292e-01,  5.44451867e-01,  5.28654739e-01,\n",
              "        3.38090995e-01,  5.73102180e-01,  3.25276252e-01,  3.47998672e-01,\n",
              "        3.17378781e-01,  4.43498354e-01,  5.95199939e-01,  1.92172388e-01,\n",
              "        5.00641976e-01,  2.48552175e-01,  2.71650191e-01,  1.80610008e-01,\n",
              "        2.06872510e-02,  5.94718814e-01,  3.75334443e-01,  1.19325882e-01,\n",
              "        3.02790055e-01,  1.90398315e-01,  5.23498370e-01,  3.07814151e-01,\n",
              "        3.93745158e-01,  5.80409049e-01,  4.65985068e-01,  3.64628043e-01,\n",
              "        2.74119257e-01,  2.95958141e-01,  6.95903450e-02,  4.60861668e-01,\n",
              "        2.72215135e-01,  5.19404659e-01,  4.00896569e-01,  1.93826602e-01,\n",
              "        1.24774019e-01,  2.22946734e-01,  5.83086186e-02,  3.95141575e-01,\n",
              "        4.31089988e-01,  3.07643455e-01,  3.24592485e-01,  7.92317429e-02,\n",
              "        6.65705914e-03,  3.57880823e-01,  3.76239424e-01,  4.24927949e-01,\n",
              "        5.07652820e-01,  2.71288350e-01,  5.52749960e-01,  3.46120397e-01,\n",
              "        3.52737875e-01,  3.75559501e-01,  3.80137714e-01,  1.77897801e-01,\n",
              "        2.07640021e-01,  1.57304514e-01,  5.46945444e-01,  3.69394317e-01,\n",
              "        4.80347984e-01,  5.69897227e-01,  5.45266502e-01,  4.78275824e-01,\n",
              "        3.88471508e-01,  4.98276984e-01,  5.84873271e-01,  5.54924298e-01,\n",
              "        3.93755622e-01,  5.44755073e-01,  4.18387286e-01,  2.80590883e-01,\n",
              "        2.52928621e-01,  2.39327143e-01,  4.54444219e-01,  3.14352953e-01,\n",
              "        3.24918977e-01,  5.47354049e-01,  4.51180983e-01,  5.72638377e-01,\n",
              "        5.99607638e-01,  4.51021746e-01,  4.91513956e-01,  4.80684168e-01,\n",
              "        3.65218795e-01,  2.68287410e-01,  1.94323334e-01,  4.07067989e-01,\n",
              "        2.92056406e-01,  5.09615596e-01,  5.72114728e-01,  5.51500432e-01,\n",
              "        5.74244299e-01,  5.13721727e-01,  4.93434094e-02,  1.46151424e-01,\n",
              "        3.91734497e-01,  5.20026535e-01,  2.23875331e-01,  7.62287871e-02,\n",
              "        3.89143461e-01,  4.58414372e-01,  2.21035919e-01,  2.69144298e-01,\n",
              "        1.77798982e-01,  5.30805925e-02,  4.90703981e-01,  2.83997250e-01,\n",
              "        9.13939664e-02,  5.16365706e-01,  5.07054970e-01,  4.57325466e-01,\n",
              "        4.62398180e-01,  5.65177386e-01,  2.58294259e-01,  2.34829727e-01,\n",
              "        4.58438012e-01,  1.74033804e-01,  1.21187607e-01,  4.62279838e-01,\n",
              "        5.30165014e-01,  3.43734025e-01,  4.13794827e-01, -5.47369197e-02,\n",
              "        5.55753704e-01,  4.07068420e-01,  3.21433563e-01,  4.72736275e-01,\n",
              "        5.74690013e-01,  4.72610188e-01,  5.92481403e-01,  2.43315974e-01,\n",
              "        2.20203572e-01,  2.36749177e-01,  5.26732631e-01,  5.37496774e-01,\n",
              "        3.55108573e-01,  3.58813282e-01,  1.14998038e-01,  1.98402559e-01,\n",
              "        4.04226390e-01,  3.85589910e-01,  1.47934414e-01,  1.09817895e-01,\n",
              "        6.10070726e-01,  3.56875976e-02,  5.29159019e-02,  3.43732847e-01,\n",
              "        5.97851764e-01,  3.22962829e-01,  2.23991644e-01,  2.57096668e-01,\n",
              "        4.18912132e-01,  5.21464218e-02,  5.31162019e-01,  7.46212997e-02,\n",
              "        5.99863560e-01,  5.19839322e-01,  2.80899687e-01,  2.28837240e-01,\n",
              "        5.18340737e-01,  5.89545956e-01,  4.87742531e-01,  5.31902961e-01,\n",
              "       -2.77256947e-04,  3.89487480e-01,  4.15623570e-01,  2.86679734e-01,\n",
              "        3.78005894e-01,  5.16624899e-01,  6.05699685e-01,  5.88204139e-01,\n",
              "        5.31358969e-01,  5.76280178e-01,  2.71631912e-01,  2.38185809e-01,\n",
              "        5.72404509e-01,  2.22281954e-01,  3.97891615e-01,  8.71347730e-02,\n",
              "        5.90110009e-01,  3.83084537e-01,  3.94461085e-01,  3.30369763e-01,\n",
              "        5.22354331e-01,  5.41772077e-01,  2.69529161e-01,  1.04320135e-01,\n",
              "        5.66340327e-01,  4.26328723e-01,  7.13861559e-03,  5.44280725e-01,\n",
              "        5.03014748e-01])"
            ]
          },
          "metadata": {},
          "execution_count": 41
        }
      ],
      "source": [
        "silhouette_samples(x, km.labels_) # คะแนนของแต่ละเมือง (คะแนนติดลบ --> คล้ายกลุ่มอื่นมากกว่ากลุ่มตัวเอง)"
      ]
    },
    {
      "cell_type": "code",
      "execution_count": null,
      "metadata": {
        "id": "lCMgd0M9ckML"
      },
      "outputs": [],
      "source": [
        "df['sil_score'] = silhouette_samples(x, km.labels_)"
      ]
    },
    {
      "cell_type": "code",
      "execution_count": null,
      "metadata": {
        "colab": {
          "base_uri": "https://localhost:8080/",
          "height": 386
        },
        "id": "EjI78WmUckJk",
        "outputId": "f92f4cb8-8a75-4314-e4b9-2e09e08e3365"
      },
      "outputs": [
        {
          "output_type": "execute_result",
          "data": {
            "text/plain": [
              "<seaborn.axisgrid.FacetGrid at 0x7fafdc261dd0>"
            ]
          },
          "metadata": {},
          "execution_count": 43
        },
        {
          "output_type": "display_data",
          "data": {
            "text/plain": [
              "<Figure size 562.25x360 with 1 Axes>"
            ],
            "image/png": "[encoded data removed]"
          },
          "metadata": {
            "needs_background": "light"
          }
        }
      ],
      "source": [
        "sns.relplot(data=df, x='longitude', y='latitude', hue='sil_score', \n",
        "            height=5, aspect=1.4)"
      ]
    },
    {
      "cell_type": "code",
      "execution_count": null,
      "metadata": {
        "id": "kzdHi31ZckGv"
      },
      "outputs": [],
      "source": [
        "results = []\n",
        "for k in range(2,12):\n",
        "  km_search = KMeans(n_clusters=k, n_init=100)\n",
        "  km_search.fit(x)\n",
        "  results.append( (k, km_search.inertia_,\n",
        "                   silhouette_score(x, km_search.labels_)) )"
      ]
    },
    {
      "cell_type": "code",
      "execution_count": null,
      "metadata": {
        "id": "TKju-wgKckEI"
      },
      "outputs": [],
      "source": [
        "k_search_df = pd.DataFrame(results, columns=['k','inertia', 'sil'])"
      ]
    },
    {
      "cell_type": "code",
      "source": [
        "k_search_df"
      ],
      "metadata": {
        "colab": {
          "base_uri": "https://localhost:8080/",
          "height": 363
        },
        "id": "7KNWEZ3ZuNY0",
        "outputId": "7cae96f7-5453-4ae0-93ef-4e3dedd28700"
      },
      "execution_count": null,
      "outputs": [
        {
          "output_type": "execute_result",
          "data": {
            "text/plain": [
              "    k       inertia       sil\n",
              "0   2  19930.716255  0.462491\n",
              "1   3  13444.109382  0.384888\n",
              "2   4  10253.710150  0.381200\n",
              "3   5   8201.426890  0.363819\n",
              "4   6   6604.774052  0.375997\n",
              "5   7   5413.130263  0.383455\n",
              "6   8   4671.177251  0.381268\n",
              "7   9   4021.825060  0.391983\n",
              "8  10   3461.802003  0.413689\n",
              "9  11   3090.757841  0.398836"
            ],
            "text/html": [
              "\n",
              "  <div id=\"df-8b7df06c-c439-4911-9a4e-c3f87710107a\">\n",
              "    <div class=\"colab-df-container\">\n",
              "      <div>\n",
              "<style scoped>\n",
              "    .dataframe tbody tr th:only-of-type {\n",
              "        vertical-align: middle;\n",
              "    }\n",
              "\n",
              "    .dataframe tbody tr th {\n",
              "        vertical-align: top;\n",
              "    }\n",
              "\n",
              "    .dataframe thead th {\n",
              "        text-align: right;\n",
              "    }\n",
              "</style>\n",
              "<table border=\"1\" class=\"dataframe\">\n",
              "  <thead>\n",
              "    <tr style=\"text-align: right;\">\n",
              "      <th></th>\n",
              "      <th>k</th>\n",
              "      <th>inertia</th>\n",
              "      <th>sil</th>\n",
              "    </tr>\n",
              "  </thead>\n",
              "  <tbody>\n",
              "    <tr>\n",
              "      <th>0</th>\n",
              "      <td>2</td>\n",
              "      <td>19930.716255</td>\n",
              "      <td>0.462491</td>\n",
              "    </tr>\n",
              "    <tr>\n",
              "      <th>1</th>\n",
              "      <td>3</td>\n",
              "      <td>13444.109382</td>\n",
              "      <td>0.384888</td>\n",
              "    </tr>\n",
              "    <tr>\n",
              "      <th>2</th>\n",
              "      <td>4</td>\n",
              "      <td>10253.710150</td>\n",
              "      <td>0.381200</td>\n",
              "    </tr>\n",
              "    <tr>\n",
              "      <th>3</th>\n",
              "      <td>5</td>\n",
              "      <td>8201.426890</td>\n",
              "      <td>0.363819</td>\n",
              "    </tr>\n",
              "    <tr>\n",
              "      <th>4</th>\n",
              "      <td>6</td>\n",
              "      <td>6604.774052</td>\n",
              "      <td>0.375997</td>\n",
              "    </tr>\n",
              "    <tr>\n",
              "      <th>5</th>\n",
              "      <td>7</td>\n",
              "      <td>5413.130263</td>\n",
              "      <td>0.383455</td>\n",
              "    </tr>\n",
              "    <tr>\n",
              "      <th>6</th>\n",
              "      <td>8</td>\n",
              "      <td>4671.177251</td>\n",
              "      <td>0.381268</td>\n",
              "    </tr>\n",
              "    <tr>\n",
              "      <th>7</th>\n",
              "      <td>9</td>\n",
              "      <td>4021.825060</td>\n",
              "      <td>0.391983</td>\n",
              "    </tr>\n",
              "    <tr>\n",
              "      <th>8</th>\n",
              "      <td>10</td>\n",
              "      <td>3461.802003</td>\n",
              "      <td>0.413689</td>\n",
              "    </tr>\n",
              "    <tr>\n",
              "      <th>9</th>\n",
              "      <td>11</td>\n",
              "      <td>3090.757841</td>\n",
              "      <td>0.398836</td>\n",
              "    </tr>\n",
              "  </tbody>\n",
              "</table>\n",
              "</div>\n",
              "      <button class=\"colab-df-convert\" onclick=\"convertToInteractive('df-8b7df06c-c439-4911-9a4e-c3f87710107a')\"\n",
              "              title=\"Convert this dataframe to an interactive table.\"\n",
              "              style=\"display:none;\">\n",
              "        \n",
              "  <svg xmlns=\"http://www.w3.org/2000/svg\" height=\"24px\"viewBox=\"0 0 24 24\"\n",
              "       width=\"24px\">\n",
              "    <path d=\"M0 0h24v24H0V0z\" fill=\"none\"/>\n",
              "    <path d=\"M18.56 5.44l.94 2.06.94-2.06 2.06-.94-2.06-.94-.94-2.06-.94 2.06-2.06.94zm-11 1L8.5 8.5l.94-2.06 2.06-.94-2.06-.94L8.5 2.5l-.94 2.06-2.06.94zm10 10l.94 2.06.94-2.06 2.06-.94-2.06-.94-.94-2.06-.94 2.06-2.06.94z\"/><path d=\"M17.41 7.96l-1.37-1.37c-.4-.4-.92-.59-1.43-.59-.52 0-1.04.2-1.43.59L10.3 9.45l-7.72 7.72c-.78.78-.78 2.05 0 2.83L4 21.41c.39.39.9.59 1.41.59.51 0 1.02-.2 1.41-.59l7.78-7.78 2.81-2.81c.8-.78.8-2.07 0-2.86zM5.41 20L4 18.59l7.72-7.72 1.47 1.35L5.41 20z\"/>\n",
              "  </svg>\n",
              "      </button>\n",
              "      \n",
              "  <style>\n",
              "    .colab-df-container {\n",
              "      display:flex;\n",
              "      flex-wrap:wrap;\n",
              "      gap: 12px;\n",
              "    }\n",
              "\n",
              "    .colab-df-convert {\n",
              "      background-color: #E8F0FE;\n",
              "      border: none;\n",
              "      border-radius: 50%;\n",
              "      cursor: pointer;\n",
              "      display: none;\n",
              "      fill: #1967D2;\n",
              "      height: 32px;\n",
              "      padding: 0 0 0 0;\n",
              "      width: 32px;\n",
              "    }\n",
              "\n",
              "    .colab-df-convert:hover {\n",
              "      background-color: #E2EBFA;\n",
              "      box-shadow: 0px 1px 2px rgba(60, 64, 67, 0.3), 0px 1px 3px 1px rgba(60, 64, 67, 0.15);\n",
              "      fill: #174EA6;\n",
              "    }\n",
              "\n",
              "    [theme=dark] .colab-df-convert {\n",
              "      background-color: #3B4455;\n",
              "      fill: #D2E3FC;\n",
              "    }\n",
              "\n",
              "    [theme=dark] .colab-df-convert:hover {\n",
              "      background-color: #434B5C;\n",
              "      box-shadow: 0px 1px 3px 1px rgba(0, 0, 0, 0.15);\n",
              "      filter: drop-shadow(0px 1px 2px rgba(0, 0, 0, 0.3));\n",
              "      fill: #FFFFFF;\n",
              "    }\n",
              "  </style>\n",
              "\n",
              "      <script>\n",
              "        const buttonEl =\n",
              "          document.querySelector('#df-8b7df06c-c439-4911-9a4e-c3f87710107a button.colab-df-convert');\n",
              "        buttonEl.style.display =\n",
              "          google.colab.kernel.accessAllowed ? 'block' : 'none';\n",
              "\n",
              "        async function convertToInteractive(key) {\n",
              "          const element = document.querySelector('#df-8b7df06c-c439-4911-9a4e-c3f87710107a');\n",
              "          const dataTable =\n",
              "            await google.colab.kernel.invokeFunction('convertToInteractive',\n",
              "                                                     [key], {});\n",
              "          if (!dataTable) return;\n",
              "\n",
              "          const docLinkHtml = 'Like what you see? Visit the ' +\n",
              "            '<a target=\"_blank\" href=https://colab.research.google.com/notebooks/data_table.ipynb>data table notebook</a>'\n",
              "            + ' to learn more about interactive tables.';\n",
              "          element.innerHTML = '';\n",
              "          dataTable['output_type'] = 'display_data';\n",
              "          await google.colab.output.renderOutput(dataTable, element);\n",
              "          const docLink = document.createElement('div');\n",
              "          docLink.innerHTML = docLinkHtml;\n",
              "          element.appendChild(docLink);\n",
              "        }\n",
              "      </script>\n",
              "    </div>\n",
              "  </div>\n",
              "  "
            ]
          },
          "metadata": {},
          "execution_count": 50
        }
      ]
    },
    {
      "cell_type": "code",
      "execution_count": null,
      "metadata": {
        "colab": {
          "base_uri": "https://localhost:8080/",
          "height": 386
        },
        "id": "pvNdlKR_ckBg",
        "outputId": "fe54aa26-7fc0-41f0-95a5-f28aff2c93b9"
      },
      "outputs": [
        {
          "output_type": "execute_result",
          "data": {
            "text/plain": [
              "<seaborn.axisgrid.FacetGrid at 0x7fafdc1c2510>"
            ]
          },
          "metadata": {},
          "execution_count": 53
        },
        {
          "output_type": "display_data",
          "data": {
            "text/plain": [
              "<Figure size 360x360 with 1 Axes>"
            ],
            "image/png": "[encoded data removed]"
          },
          "metadata": {
            "needs_background": "light"
          }
        }
      ],
      "source": [
        "sns.relplot(data=k_search_df, x='k', y='sil', kind='line', marker='*')"
      ]
    },
    {
      "cell_type": "code",
      "execution_count": null,
      "metadata": {
        "colab": {
          "base_uri": "https://localhost:8080/"
        },
        "id": "teZTW9Hccj-7",
        "outputId": "a04b6d70-a649-4b38-e106-d905ed8b1816"
      },
      "outputs": [
        {
          "output_type": "execute_result",
          "data": {
            "text/plain": [
              "KMeans(n_clusters=10)"
            ]
          },
          "metadata": {},
          "execution_count": 54
        }
      ],
      "source": [
        "km10 = KMeans(10)\n",
        "km10.fit(x)"
      ]
    },
    {
      "cell_type": "code",
      "execution_count": null,
      "metadata": {
        "id": "-9IbF0YDcj8X"
      },
      "outputs": [],
      "source": [
        "df['km10'] = pd.Series(km10.labels_, dtype='category')"
      ]
    },
    {
      "cell_type": "code",
      "execution_count": null,
      "metadata": {
        "colab": {
          "base_uri": "https://localhost:8080/",
          "height": 206
        },
        "id": "EoNIw8cRkl-V",
        "outputId": "d1ad7790-da4d-422c-d2d2-9b9e951497c7"
      },
      "outputs": [
        {
          "output_type": "execute_result",
          "data": {
            "text/plain": [
              "    latitude  longitude\n",
              "0  50.637778   8.580889\n",
              "1  43.186170  32.301489\n",
              "2  56.445806  22.723871\n",
              "3  44.146136  18.322727\n",
              "4  46.016957  -3.048261"
            ],
            "text/html": [
              "\n",
              "  <div id=\"df-f8d2bfea-3eb1-4945-a3aa-8876d2ae8219\">\n",
              "    <div class=\"colab-df-container\">\n",
              "      <div>\n",
              "<style scoped>\n",
              "    .dataframe tbody tr th:only-of-type {\n",
              "        vertical-align: middle;\n",
              "    }\n",
              "\n",
              "    .dataframe tbody tr th {\n",
              "        vertical-align: top;\n",
              "    }\n",
              "\n",
              "    .dataframe thead th {\n",
              "        text-align: right;\n",
              "    }\n",
              "</style>\n",
              "<table border=\"1\" class=\"dataframe\">\n",
              "  <thead>\n",
              "    <tr style=\"text-align: right;\">\n",
              "      <th></th>\n",
              "      <th>latitude</th>\n",
              "      <th>longitude</th>\n",
              "    </tr>\n",
              "  </thead>\n",
              "  <tbody>\n",
              "    <tr>\n",
              "      <th>0</th>\n",
              "      <td>50.637778</td>\n",
              "      <td>8.580889</td>\n",
              "    </tr>\n",
              "    <tr>\n",
              "      <th>1</th>\n",
              "      <td>43.186170</td>\n",
              "      <td>32.301489</td>\n",
              "    </tr>\n",
              "    <tr>\n",
              "      <th>2</th>\n",
              "      <td>56.445806</td>\n",
              "      <td>22.723871</td>\n",
              "    </tr>\n",
              "    <tr>\n",
              "      <th>3</th>\n",
              "      <td>44.146136</td>\n",
              "      <td>18.322727</td>\n",
              "    </tr>\n",
              "    <tr>\n",
              "      <th>4</th>\n",
              "      <td>46.016957</td>\n",
              "      <td>-3.048261</td>\n",
              "    </tr>\n",
              "  </tbody>\n",
              "</table>\n",
              "</div>\n",
              "      <button class=\"colab-df-convert\" onclick=\"convertToInteractive('df-f8d2bfea-3eb1-4945-a3aa-8876d2ae8219')\"\n",
              "              title=\"Convert this dataframe to an interactive table.\"\n",
              "              style=\"display:none;\">\n",
              "        \n",
              "  <svg xmlns=\"http://www.w3.org/2000/svg\" height=\"24px\"viewBox=\"0 0 24 24\"\n",
              "       width=\"24px\">\n",
              "    <path d=\"M0 0h24v24H0V0z\" fill=\"none\"/>\n",
              "    <path d=\"M18.56 5.44l.94 2.06.94-2.06 2.06-.94-2.06-.94-.94-2.06-.94 2.06-2.06.94zm-11 1L8.5 8.5l.94-2.06 2.06-.94-2.06-.94L8.5 2.5l-.94 2.06-2.06.94zm10 10l.94 2.06.94-2.06 2.06-.94-2.06-.94-.94-2.06-.94 2.06-2.06.94z\"/><path d=\"M17.41 7.96l-1.37-1.37c-.4-.4-.92-.59-1.43-.59-.52 0-1.04.2-1.43.59L10.3 9.45l-7.72 7.72c-.78.78-.78 2.05 0 2.83L4 21.41c.39.39.9.59 1.41.59.51 0 1.02-.2 1.41-.59l7.78-7.78 2.81-2.81c.8-.78.8-2.07 0-2.86zM5.41 20L4 18.59l7.72-7.72 1.47 1.35L5.41 20z\"/>\n",
              "  </svg>\n",
              "      </button>\n",
              "      \n",
              "  <style>\n",
              "    .colab-df-container {\n",
              "      display:flex;\n",
              "      flex-wrap:wrap;\n",
              "      gap: 12px;\n",
              "    }\n",
              "\n",
              "    .colab-df-convert {\n",
              "      background-color: #E8F0FE;\n",
              "      border: none;\n",
              "      border-radius: 50%;\n",
              "      cursor: pointer;\n",
              "      display: none;\n",
              "      fill: #1967D2;\n",
              "      height: 32px;\n",
              "      padding: 0 0 0 0;\n",
              "      width: 32px;\n",
              "    }\n",
              "\n",
              "    .colab-df-convert:hover {\n",
              "      background-color: #E2EBFA;\n",
              "      box-shadow: 0px 1px 2px rgba(60, 64, 67, 0.3), 0px 1px 3px 1px rgba(60, 64, 67, 0.15);\n",
              "      fill: #174EA6;\n",
              "    }\n",
              "\n",
              "    [theme=dark] .colab-df-convert {\n",
              "      background-color: #3B4455;\n",
              "      fill: #D2E3FC;\n",
              "    }\n",
              "\n",
              "    [theme=dark] .colab-df-convert:hover {\n",
              "      background-color: #434B5C;\n",
              "      box-shadow: 0px 1px 3px 1px rgba(0, 0, 0, 0.15);\n",
              "      filter: drop-shadow(0px 1px 2px rgba(0, 0, 0, 0.3));\n",
              "      fill: #FFFFFF;\n",
              "    }\n",
              "  </style>\n",
              "\n",
              "      <script>\n",
              "        const buttonEl =\n",
              "          document.querySelector('#df-f8d2bfea-3eb1-4945-a3aa-8876d2ae8219 button.colab-df-convert');\n",
              "        buttonEl.style.display =\n",
              "          google.colab.kernel.accessAllowed ? 'block' : 'none';\n",
              "\n",
              "        async function convertToInteractive(key) {\n",
              "          const element = document.querySelector('#df-f8d2bfea-3eb1-4945-a3aa-8876d2ae8219');\n",
              "          const dataTable =\n",
              "            await google.colab.kernel.invokeFunction('convertToInteractive',\n",
              "                                                     [key], {});\n",
              "          if (!dataTable) return;\n",
              "\n",
              "          const docLinkHtml = 'Like what you see? Visit the ' +\n",
              "            '<a target=\"_blank\" href=https://colab.research.google.com/notebooks/data_table.ipynb>data table notebook</a>'\n",
              "            + ' to learn more about interactive tables.';\n",
              "          element.innerHTML = '';\n",
              "          dataTable['output_type'] = 'display_data';\n",
              "          await google.colab.output.renderOutput(dataTable, element);\n",
              "          const docLink = document.createElement('div');\n",
              "          docLink.innerHTML = docLinkHtml;\n",
              "          element.appendChild(docLink);\n",
              "        }\n",
              "      </script>\n",
              "    </div>\n",
              "  </div>\n",
              "  "
            ]
          },
          "metadata": {},
          "execution_count": 56
        }
      ],
      "source": [
        "pd.DataFrame(km.cluster_centers_, columns=['latitude','longitude'])"
      ]
    },
    {
      "cell_type": "code",
      "execution_count": null,
      "metadata": {
        "colab": {
          "base_uri": "https://localhost:8080/",
          "height": 386
        },
        "id": "kf1nEm6Fcj57",
        "outputId": "07b6cbce-581a-4a84-a071-60d70387838a"
      },
      "outputs": [
        {
          "output_type": "execute_result",
          "data": {
            "text/plain": [
              "<matplotlib.collections.PathCollection at 0x7fafdc0d3c10>"
            ]
          },
          "metadata": {},
          "execution_count": 57
        },
        {
          "output_type": "display_data",
          "data": {
            "text/plain": [
              "<Figure size 546.375x360 with 1 Axes>"
            ],
            "image/png": "[encoded data removed]"
          },
          "metadata": {
            "needs_background": "light"
          }
        }
      ],
      "source": [
        "sns.relplot(data=df, x='longitude', y='latitude', hue='km10', \n",
        "            height=5, aspect=1.4)\n",
        "\n",
        "plt.scatter(centers['longitude'], centers['latitude'],\n",
        "            marker='*', color='gray', s=300)"
      ]
    },
    {
      "cell_type": "markdown",
      "metadata": {
        "id": "Tq8lRWyYmkJf"
      },
      "source": [
        "# DBSCAN"
      ]
    },
    {
      "cell_type": "markdown",
      "source": [
        "Dataset using 03-cities.csv"
      ],
      "metadata": {
        "id": "Jc14rXynzBu9"
      }
    },
    {
      "cell_type": "code",
      "execution_count": null,
      "metadata": {
        "id": "qGDZd3zgcj3f"
      },
      "outputs": [],
      "source": [
        "from sklearn.cluster import DBSCAN"
      ]
    },
    {
      "cell_type": "code",
      "execution_count": null,
      "metadata": {
        "id": "sUiVhrPqcj1E"
      },
      "outputs": [],
      "source": [
        "dbs = DBSCAN(eps=2.6, min_samples=5) # eps --> radius circle # min_samples --> ขั้นต่ำที่ต้องอยู่ในวงกลม"
      ]
    },
    {
      "cell_type": "code",
      "execution_count": null,
      "metadata": {
        "colab": {
          "base_uri": "https://localhost:8080/"
        },
        "id": "rX7gQMrZcjyg",
        "outputId": "b564afbb-0f0a-4860-fc30-56161cb351a0"
      },
      "outputs": [
        {
          "output_type": "execute_result",
          "data": {
            "text/plain": [
              "DBSCAN(eps=2.6)"
            ]
          },
          "metadata": {},
          "execution_count": 60
        }
      ],
      "source": [
        "dbs.fit(x)"
      ]
    },
    {
      "cell_type": "code",
      "execution_count": null,
      "metadata": {
        "colab": {
          "base_uri": "https://localhost:8080/"
        },
        "id": "cTFzyvn8cjqX",
        "outputId": "0c758b00-75f8-48dc-b225-91c0e47ac416"
      },
      "outputs": [
        {
          "output_type": "execute_result",
          "data": {
            "text/plain": [
              "array([-1,  0, -1,  1,  2,  2,  3,  3,  3,  3,  3,  3,  3,  3,  5,  3,  3,\n",
              "        4,  3,  3,  3,  3,  3,  1,  0,  3,  3, -1,  3,  3,  3,  3,  4,  0,\n",
              "        0, -1,  3,  3,  3,  3,  0,  0, -1,  3,  3,  3,  0,  3,  3,  3,  3,\n",
              "        3,  3,  4,  3,  3,  3,  0,  0,  2,  3,  3,  3,  3,  3,  3,  3, -1,\n",
              "        3,  3,  3,  3,  3,  3, -1,  0,  0,  3,  5,  3,  3,  1,  1,  3,  0,\n",
              "        3,  3,  3, -1,  1,  3,  3,  0, -1,  2,  3,  3,  3,  3,  3,  6, -1,\n",
              "        3, -1,  3,  3,  0,  3,  5,  1,  3,  3,  1,  3,  3,  3, -1, -1,  3,\n",
              "        3,  3,  3,  3,  3,  3,  3, -1,  3,  3,  3,  2,  3, -1,  1,  3,  3,\n",
              "        2,  3,  3,  3,  3,  3,  3,  3,  3,  2,  3,  3,  3,  3,  1, -1, -1,\n",
              "        3, -1,  4, -1,  5,  3,  3,  3,  3,  3,  3,  5,  3,  3,  3,  3,  3,\n",
              "        3,  3,  3,  3,  4,  3,  1,  4,  3,  3,  1,  1,  5,  3,  3, -1, -1,\n",
              "        3,  0,  3,  6,  6,  1,  6,  3,  3,  1,  3,  5, -1, -1, -1,  2,  3,\n",
              "       -1,  3,  3,  3, -1,  2,  3,  3,  3])"
            ]
          },
          "metadata": {},
          "execution_count": 61
        }
      ],
      "source": [
        "dbs.labels_"
      ]
    },
    {
      "cell_type": "code",
      "execution_count": null,
      "metadata": {
        "id": "CC1u5vvvjskr"
      },
      "outputs": [],
      "source": [
        "df['dbscan'] = pd.Series(dbs.labels_, dtype='category')"
      ]
    },
    {
      "cell_type": "code",
      "execution_count": null,
      "metadata": {
        "colab": {
          "base_uri": "https://localhost:8080/",
          "height": 386
        },
        "id": "K9AhT-nijsiG",
        "outputId": "6a812581-b4d9-4cc1-e5cb-8b5630556492"
      },
      "outputs": [
        {
          "output_type": "execute_result",
          "data": {
            "text/plain": [
              "<seaborn.axisgrid.FacetGrid at 0x7fafdc6e8d50>"
            ]
          },
          "metadata": {},
          "execution_count": 63
        },
        {
          "output_type": "display_data",
          "data": {
            "text/plain": [
              "<Figure size 550x360 with 1 Axes>"
            ],
            "image/png": "[encoded data removed]"
          },
          "metadata": {
            "needs_background": "light"
          }
        }
      ],
      "source": [
        "sns.relplot(data=df, x='longitude', y='latitude', hue='dbscan', \n",
        "            height=5, aspect=1.4)"
      ]
    },
    {
      "cell_type": "code",
      "execution_count": null,
      "metadata": {
        "colab": {
          "base_uri": "https://localhost:8080/"
        },
        "id": "rugNxINxjsfJ",
        "outputId": "b7975c95-143b-4bac-c92b-bcfc5239254e"
      },
      "outputs": [
        {
          "output_type": "execute_result",
          "data": {
            "text/plain": [
              "-0.07610341174865949"
            ]
          },
          "metadata": {},
          "execution_count": 64
        }
      ],
      "source": [
        "silhouette_score(x, dbs.labels_)"
      ]
    },
    {
      "cell_type": "markdown",
      "source": [
        "# Decision Tree"
      ],
      "metadata": {
        "id": "omMzrr9V_dvu"
      }
    },
    {
      "cell_type": "markdown",
      "source": [
        "Dataset using 01-census-income-all.csv"
      ],
      "metadata": {
        "id": "IeqH_EGvyXon"
      }
    },
    {
      "cell_type": "markdown",
      "source": [
        "**Preprocessing**"
      ],
      "metadata": {
        "id": "492UVMqRIIiX"
      }
    },
    {
      "cell_type": "code",
      "execution_count": null,
      "metadata": {
        "id": "AKWkZuHWjsco"
      },
      "outputs": [],
      "source": [
        "import pandas as pd"
      ]
    },
    {
      "cell_type": "code",
      "execution_count": null,
      "metadata": {
        "id": "-lgJiD1bjsZi"
      },
      "outputs": [],
      "source": [
        "df = pd.read_csv('/content/drive/MyDrive/Dataset_KU/01-census-income-all.csv', \n",
        "                 encoding='tis620')"
      ]
    },
    {
      "cell_type": "code",
      "execution_count": null,
      "metadata": {
        "colab": {
          "base_uri": "https://localhost:8080/"
        },
        "id": "fPAntd2jjsW0",
        "outputId": "4b2e01ce-39c6-4960-b5af-7c5c902b16b1"
      },
      "outputs": [
        {
          "output_type": "execute_result",
          "data": {
            "text/plain": [
              "Index(['age', 'workclass', 'weight', 'education', 'edu num', 'marital status',\n",
              "       'occupation', 'relationship', 'race', 'sex', 'captial-gain',\n",
              "       'capital-loss', 'hours-per-week', 'native country', 'label'],\n",
              "      dtype='object')"
            ]
          },
          "metadata": {},
          "execution_count": 67
        }
      ],
      "source": [
        "df.columns"
      ]
    },
    {
      "cell_type": "code",
      "execution_count": null,
      "metadata": {
        "id": "XDrIeRxIjsTa"
      },
      "outputs": [],
      "source": [
        "X = df[['age', 'edu num', 'marital status',\n",
        "        'occupation', 'sex', 'captial-gain',\n",
        "        'capital-loss', 'hours-per-week']]"
      ]
    },
    {
      "cell_type": "code",
      "execution_count": null,
      "metadata": {
        "id": "0UA3snpKjsQp"
      },
      "outputs": [],
      "source": [
        "y = df['label']"
      ]
    },
    {
      "cell_type": "code",
      "execution_count": null,
      "metadata": {
        "id": "rg5kd5cZjsOF"
      },
      "outputs": [],
      "source": [
        "from sklearn.model_selection import train_test_split"
      ]
    },
    {
      "cell_type": "code",
      "execution_count": null,
      "metadata": {
        "id": "kPx-xT1DjsLa"
      },
      "outputs": [],
      "source": [
        "X_train, X_test, y_train, y_test = train_test_split(X, y, test_size=0.2)"
      ]
    },
    {
      "cell_type": "code",
      "execution_count": null,
      "metadata": {
        "id": "z6RjbtgKjsJA"
      },
      "outputs": [],
      "source": [
        "from sklearn.compose import make_column_transformer\n",
        "from sklearn.preprocessing import OneHotEncoder"
      ]
    },
    {
      "cell_type": "code",
      "execution_count": null,
      "metadata": {
        "id": "xcsrbzWHjsGe"
      },
      "outputs": [],
      "source": [
        "transformer = make_column_transformer(\n",
        "              ( OneHotEncoder() , ['marital status','occupation', 'sex']),\n",
        "              remainder='passthrough'\n",
        "            )"
      ]
    },
    {
      "cell_type": "code",
      "source": [
        "X_train_transformed = transformer.fit_transform(X_train)"
      ],
      "metadata": {
        "id": "T_goy3z0Hwr6"
      },
      "execution_count": null,
      "outputs": []
    },
    {
      "cell_type": "code",
      "source": [
        "X_test_transformed = transformer.transform(X_test)"
      ],
      "metadata": {
        "id": "BaVgbKCiH7R9"
      },
      "execution_count": null,
      "outputs": []
    },
    {
      "cell_type": "markdown",
      "source": [
        "**Decision Tree**"
      ],
      "metadata": {
        "id": "fr_wmvyVIQ40"
      }
    },
    {
      "cell_type": "code",
      "source": [
        "from sklearn.tree import DecisionTreeClassifier"
      ],
      "metadata": {
        "id": "rOZ7qiG5H7P2"
      },
      "execution_count": null,
      "outputs": []
    },
    {
      "cell_type": "code",
      "source": [
        "dtree = DecisionTreeClassifier()\n",
        "dtree.fit(X_train_transformed, y_train)"
      ],
      "metadata": {
        "colab": {
          "base_uri": "https://localhost:8080/"
        },
        "id": "WAu4IA3PH7NV",
        "outputId": "470bf242-faea-4ae6-ff60-aff856660715"
      },
      "execution_count": null,
      "outputs": [
        {
          "output_type": "execute_result",
          "data": {
            "text/plain": [
              "DecisionTreeClassifier()"
            ]
          },
          "metadata": {},
          "execution_count": 77
        }
      ]
    },
    {
      "cell_type": "code",
      "source": [
        "dtree.score(X_train_transformed, y_train)"
      ],
      "metadata": {
        "colab": {
          "base_uri": "https://localhost:8080/"
        },
        "id": "JaKQUvpHH7LD",
        "outputId": "1cf1d5d1-f1ce-47a7-bc1e-5c7774bbd09b"
      },
      "execution_count": null,
      "outputs": [
        {
          "output_type": "execute_result",
          "data": {
            "text/plain": [
              "0.9527039131881351"
            ]
          },
          "metadata": {},
          "execution_count": 78
        }
      ]
    },
    {
      "cell_type": "code",
      "source": [
        "dtree.score(X_test_transformed, y_test)"
      ],
      "metadata": {
        "colab": {
          "base_uri": "https://localhost:8080/"
        },
        "id": "16fsMQnkH7Ij",
        "outputId": "e1ed5b6c-c2a5-4e88-cbca-8ef58c85b13d"
      },
      "execution_count": null,
      "outputs": [
        {
          "output_type": "execute_result",
          "data": {
            "text/plain": [
              "0.8279250690961204"
            ]
          },
          "metadata": {},
          "execution_count": 79
        }
      ]
    },
    {
      "cell_type": "code",
      "source": [
        "from sklearn.model_selection import cross_val_score"
      ],
      "metadata": {
        "id": "vqNDpyhtH7F5"
      },
      "execution_count": null,
      "outputs": []
    },
    {
      "cell_type": "code",
      "source": [
        "dtree_cv = DecisionTreeClassifier()"
      ],
      "metadata": {
        "id": "-9IsLqxRH7Dh"
      },
      "execution_count": null,
      "outputs": []
    },
    {
      "cell_type": "code",
      "source": [
        "cross_val_score(dtree_cv, X_train_transformed, y_train, cv=5)"
      ],
      "metadata": {
        "colab": {
          "base_uri": "https://localhost:8080/"
        },
        "id": "nk8cJym9H7BC",
        "outputId": "853d1c60-e86b-4b21-f26c-c8c584c69bcc"
      },
      "execution_count": null,
      "outputs": [
        {
          "output_type": "execute_result",
          "data": {
            "text/plain": [
              "array([0.82559181, 0.82303263, 0.83109405, 0.82249808, 0.81635526])"
            ]
          },
          "metadata": {},
          "execution_count": 82
        }
      ]
    },
    {
      "cell_type": "code",
      "source": [
        "dtree.tree_"
      ],
      "metadata": {
        "colab": {
          "base_uri": "https://localhost:8080/"
        },
        "id": "ilfsg5deH6-s",
        "outputId": "66d12a35-be5a-44a6-e064-66d82db85fdf"
      },
      "execution_count": null,
      "outputs": [
        {
          "output_type": "execute_result",
          "data": {
            "text/plain": [
              "<sklearn.tree._tree.Tree at 0x7fafdbf4d8f0>"
            ]
          },
          "metadata": {},
          "execution_count": 83
        }
      ]
    },
    {
      "cell_type": "code",
      "source": [
        "dtree.feature_importances_ # ค่าที่สูง จะมีความสำคัญมากสุด เช่น 2.34520331e-01"
      ],
      "metadata": {
        "colab": {
          "base_uri": "https://localhost:8080/"
        },
        "id": "9ubzumvMH68f",
        "outputId": "5ba71d09-cfa1-45ac-87fb-95ae35e6a4bd"
      },
      "execution_count": null,
      "outputs": [
        {
          "output_type": "execute_result",
          "data": {
            "text/plain": [
              "array([5.62977598e-03, 7.76271124e-04, 2.37368225e-01, 9.69395786e-04,\n",
              "       3.73751363e-03, 1.69220608e-03, 2.92827942e-03, 3.42582491e-03,\n",
              "       5.87426167e-03, 2.28051601e-04, 8.27104672e-03, 1.05872208e-02,\n",
              "       4.73071797e-03, 4.22828065e-03, 5.03802652e-03, 6.89585200e-03,\n",
              "       8.36005174e-05, 7.62940268e-03, 4.25410186e-03, 8.33076275e-03,\n",
              "       5.55233714e-03, 5.70438984e-03, 7.00044299e-03, 1.03932215e-02,\n",
              "       1.85120693e-01, 1.64465921e-01, 1.33128897e-01, 5.00564802e-02,\n",
              "       1.15898799e-01])"
            ]
          },
          "metadata": {},
          "execution_count": 84
        }
      ]
    },
    {
      "cell_type": "code",
      "source": [
        "transformer.get_feature_names_out()"
      ],
      "metadata": {
        "colab": {
          "base_uri": "https://localhost:8080/"
        },
        "id": "QnGLxz5cH66H",
        "outputId": "2fde42a4-6d21-4151-efc2-00352fc778b3"
      },
      "execution_count": null,
      "outputs": [
        {
          "output_type": "execute_result",
          "data": {
            "text/plain": [
              "array(['onehotencoder__marital status_ Divorced',\n",
              "       'onehotencoder__marital status_ Married-AF-spouse',\n",
              "       'onehotencoder__marital status_ Married-civ-spouse',\n",
              "       'onehotencoder__marital status_ Married-spouse-absent',\n",
              "       'onehotencoder__marital status_ Never-married',\n",
              "       'onehotencoder__marital status_ Separated',\n",
              "       'onehotencoder__marital status_ Widowed',\n",
              "       'onehotencoder__occupation_ ?',\n",
              "       'onehotencoder__occupation_ Adm-clerical',\n",
              "       'onehotencoder__occupation_ Armed-Forces',\n",
              "       'onehotencoder__occupation_ Craft-repair',\n",
              "       'onehotencoder__occupation_ Exec-managerial',\n",
              "       'onehotencoder__occupation_ Farming-fishing',\n",
              "       'onehotencoder__occupation_ Handlers-cleaners',\n",
              "       'onehotencoder__occupation_ Machine-op-inspct',\n",
              "       'onehotencoder__occupation_ Other-service',\n",
              "       'onehotencoder__occupation_ Priv-house-serv',\n",
              "       'onehotencoder__occupation_ Prof-specialty',\n",
              "       'onehotencoder__occupation_ Protective-serv',\n",
              "       'onehotencoder__occupation_ Sales',\n",
              "       'onehotencoder__occupation_ Tech-support',\n",
              "       'onehotencoder__occupation_ Transport-moving',\n",
              "       'onehotencoder__sex_ Female', 'onehotencoder__sex_ Male',\n",
              "       'remainder__age', 'remainder__edu num', 'remainder__captial-gain',\n",
              "       'remainder__capital-loss', 'remainder__hours-per-week'],\n",
              "      dtype=object)"
            ]
          },
          "metadata": {},
          "execution_count": 85
        }
      ]
    },
    {
      "cell_type": "markdown",
      "source": [
        "**Grid search drop Overfitting**"
      ],
      "metadata": {
        "id": "DYQ0yTLeR56N"
      }
    },
    {
      "cell_type": "code",
      "source": [
        "from sklearn.model_selection import GridSearchCV"
      ],
      "metadata": {
        "id": "N7_YkH_tSbvA"
      },
      "execution_count": null,
      "outputs": []
    },
    {
      "cell_type": "code",
      "source": [
        "grid_search = DecisionTreeClassifier()"
      ],
      "metadata": {
        "id": "XoPmjahdTWI-"
      },
      "execution_count": null,
      "outputs": []
    },
    {
      "cell_type": "code",
      "source": [
        "param_grid = {\n",
        "              'max_depth': [5,10],\n",
        "              'min_samples_split': [30,60],\n",
        "              'min_samples_leaf': [100,200]\n",
        "            }"
      ],
      "metadata": {
        "id": "MmZRE5xqH637"
      },
      "execution_count": null,
      "outputs": []
    },
    {
      "cell_type": "code",
      "source": [
        "grid_search = GridSearchCV( DecisionTreeClassifier(),\n",
        "                            param_grid,\n",
        "                            cv=5)"
      ],
      "metadata": {
        "id": "8AB0rYa9vfE-"
      },
      "execution_count": null,
      "outputs": []
    },
    {
      "cell_type": "code",
      "source": [
        "grid_search.fit(X_train_transformed, y_train)"
      ],
      "metadata": {
        "colab": {
          "base_uri": "https://localhost:8080/"
        },
        "id": "JzEd4pzXve8b",
        "outputId": "a6bde948-1166-4694-f988-29bdc2b6b09f"
      },
      "execution_count": null,
      "outputs": [
        {
          "output_type": "execute_result",
          "data": {
            "text/plain": [
              "GridSearchCV(cv=5, estimator=DecisionTreeClassifier(),\n",
              "             param_grid={'max_depth': [5, 10], 'min_samples_leaf': [100, 200],\n",
              "                         'min_samples_split': [30, 60]})"
            ]
          },
          "metadata": {},
          "execution_count": 91
        }
      ]
    },
    {
      "cell_type": "code",
      "source": [
        "grid_search.best_params_"
      ],
      "metadata": {
        "colab": {
          "base_uri": "https://localhost:8080/"
        },
        "id": "788mu4nuH61f",
        "outputId": "e9c219d2-2b96-40ce-9514-71f911fae6fb"
      },
      "execution_count": null,
      "outputs": [
        {
          "output_type": "execute_result",
          "data": {
            "text/plain": [
              "{'max_depth': 10, 'min_samples_leaf': 100, 'min_samples_split': 30}"
            ]
          },
          "metadata": {},
          "execution_count": 92
        }
      ]
    },
    {
      "cell_type": "code",
      "source": [
        "grid_search.best_score_"
      ],
      "metadata": {
        "colab": {
          "base_uri": "https://localhost:8080/"
        },
        "id": "kYe4CQeAH6y6",
        "outputId": "216c8efc-cb34-46d4-c3ec-a97de8afe89b"
      },
      "execution_count": null,
      "outputs": [
        {
          "output_type": "execute_result",
          "data": {
            "text/plain": [
              "0.8541448367441283"
            ]
          },
          "metadata": {},
          "execution_count": 94
        }
      ]
    },
    {
      "cell_type": "code",
      "source": [
        "grid_search.score(X_train_transformed, y_train)"
      ],
      "metadata": {
        "colab": {
          "base_uri": "https://localhost:8080/"
        },
        "id": "jRANo4IEIcvJ",
        "outputId": "34049072-2f72-4d09-ba7b-65760c1cc337"
      },
      "execution_count": null,
      "outputs": [
        {
          "output_type": "execute_result",
          "data": {
            "text/plain": [
              "0.859314616231157"
            ]
          },
          "metadata": {},
          "execution_count": 95
        }
      ]
    },
    {
      "cell_type": "code",
      "source": [
        "grid_search.score(X_test_transformed, y_test)"
      ],
      "metadata": {
        "colab": {
          "base_uri": "https://localhost:8080/"
        },
        "id": "evBa6dSXIctf",
        "outputId": "bd0f781d-c7f7-4f66-f454-11aae5f698a4"
      },
      "execution_count": null,
      "outputs": [
        {
          "output_type": "execute_result",
          "data": {
            "text/plain": [
              "0.8607841130105436"
            ]
          },
          "metadata": {},
          "execution_count": 96
        }
      ]
    },
    {
      "cell_type": "code",
      "source": [
        "dtree.decision_path(X_test_transformed[0:5]).toarray()"
      ],
      "metadata": {
        "colab": {
          "base_uri": "https://localhost:8080/"
        },
        "id": "iTqF_S-mIcqj",
        "outputId": "78794018-fa7b-4419-dd57-4b4303ed6d80"
      },
      "execution_count": null,
      "outputs": [
        {
          "output_type": "execute_result",
          "data": {
            "text/plain": [
              "array([[1, 1, 1, ..., 0, 0, 0],\n",
              "       [1, 0, 0, ..., 0, 0, 0],\n",
              "       [1, 1, 1, ..., 0, 0, 0],\n",
              "       [1, 0, 0, ..., 0, 0, 0],\n",
              "       [1, 1, 1, ..., 0, 0, 0]])"
            ]
          },
          "metadata": {},
          "execution_count": 97
        }
      ]
    },
    {
      "cell_type": "markdown",
      "source": [
        "# Decision Tree Regressor"
      ],
      "metadata": {
        "id": "dKRRkHQXVnTH"
      }
    },
    {
      "cell_type": "markdown",
      "source": [
        "Dataset using 02-diamonds.csv"
      ],
      "metadata": {
        "id": "gxtYfjIZyEQa"
      }
    },
    {
      "cell_type": "code",
      "source": [
        "df2 = pd.read_csv('/content/drive/MyDrive/Dataset_KU/02-diamonds.csv')"
      ],
      "metadata": {
        "id": "HtJk3KwrIcn_"
      },
      "execution_count": null,
      "outputs": []
    },
    {
      "cell_type": "code",
      "source": [
        "df2.columns"
      ],
      "metadata": {
        "colab": {
          "base_uri": "https://localhost:8080/"
        },
        "id": "5k53i6BpIclh",
        "outputId": "cee44deb-2055-4de9-f161-a963744c8993"
      },
      "execution_count": null,
      "outputs": [
        {
          "output_type": "execute_result",
          "data": {
            "text/plain": [
              "Index(['Unnamed: 0', 'carat', 'cut', 'color', 'clarity', 'depth', 'table',\n",
              "       'price', 'x', 'y', 'z'],\n",
              "      dtype='object')"
            ]
          },
          "metadata": {},
          "execution_count": 99
        }
      ]
    },
    {
      "cell_type": "code",
      "source": [
        "X2 = df2[ ['carat', 'cut', 'color', 'clarity'] ]\n",
        "y2 = df2['price']"
      ],
      "metadata": {
        "id": "7bRhP-B1IdNj"
      },
      "execution_count": null,
      "outputs": []
    },
    {
      "cell_type": "code",
      "source": [
        "X2_train, X2_test, y2_train, y2_test = train_test_split(X2, y2, test_size=0.2)"
      ],
      "metadata": {
        "id": "JsTWkqnXIdLj"
      },
      "execution_count": null,
      "outputs": []
    },
    {
      "cell_type": "code",
      "source": [
        "from numpy.ma.core import remainder"
      ],
      "metadata": {
        "id": "Zb3okXQnwICA"
      },
      "execution_count": null,
      "outputs": []
    },
    {
      "cell_type": "code",
      "source": [
        "from numpy.ma.core import remainder\n",
        "tran2 = make_column_transformer(\n",
        "        (OneHotEncoder() , ['cut', 'color', 'clarity']),\n",
        "        remainder='passthrough'\n",
        "    )"
      ],
      "metadata": {
        "id": "jKI9qldkIdI8"
      },
      "execution_count": null,
      "outputs": []
    },
    {
      "cell_type": "code",
      "source": [
        "X2_train_transformed = tran2.fit_transform(X2_train)\n",
        "X2_test_transformed = tran2.transform(X2_test)"
      ],
      "metadata": {
        "id": "qU79FbkVwiYF"
      },
      "execution_count": null,
      "outputs": []
    },
    {
      "cell_type": "code",
      "source": [
        "from sklearn.tree import DecisionTreeRegressor"
      ],
      "metadata": {
        "id": "Yp3WvSxhIcjF"
      },
      "execution_count": null,
      "outputs": []
    },
    {
      "cell_type": "code",
      "source": [
        "tree_reg = DecisionTreeClassifier()"
      ],
      "metadata": {
        "id": "_2uEy00lIcgi"
      },
      "execution_count": null,
      "outputs": []
    },
    {
      "cell_type": "code",
      "source": [
        "tree_reg = DecisionTreeRegressor()\n",
        "tree_reg.fit(X2_train_transformed, y2_train)"
      ],
      "metadata": {
        "colab": {
          "base_uri": "https://localhost:8080/"
        },
        "id": "KNPpyD7jIceJ",
        "outputId": "b9d47094-d579-47e2-f161-5a8beb4fbf74"
      },
      "execution_count": null,
      "outputs": [
        {
          "output_type": "execute_result",
          "data": {
            "text/plain": [
              "DecisionTreeRegressor()"
            ]
          },
          "metadata": {},
          "execution_count": 114
        }
      ]
    },
    {
      "cell_type": "code",
      "source": [
        "tree_reg.score(X2_train_transformed, y2_train)"
      ],
      "metadata": {
        "colab": {
          "base_uri": "https://localhost:8080/"
        },
        "id": "PaZkv_trWHqm",
        "outputId": "f0fd3d34-a653-4006-e082-385e2058f6bb"
      },
      "execution_count": null,
      "outputs": [
        {
          "output_type": "execute_result",
          "data": {
            "text/plain": [
              "0.9919841407567739"
            ]
          },
          "metadata": {},
          "execution_count": 115
        }
      ]
    },
    {
      "cell_type": "code",
      "source": [
        "tree_reg.score(X2_test_transformed, y2_test)"
      ],
      "metadata": {
        "colab": {
          "base_uri": "https://localhost:8080/"
        },
        "id": "agxQmJ_3WHo6",
        "outputId": "ef3ccc0e-f9ca-49e4-e87b-bbb92f7eb683"
      },
      "execution_count": null,
      "outputs": [
        {
          "output_type": "execute_result",
          "data": {
            "text/plain": [
              "0.96953185466153"
            ]
          },
          "metadata": {},
          "execution_count": 116
        }
      ]
    },
    {
      "cell_type": "code",
      "source": [
        "tree_reg.get_depth(), tree_reg.get_n_leaves()"
      ],
      "metadata": {
        "colab": {
          "base_uri": "https://localhost:8080/"
        },
        "id": "V6nwol1MxFIp",
        "outputId": "306ad44f-6550-41f1-8bd8-14dca5bc69e7"
      },
      "execution_count": null,
      "outputs": [
        {
          "output_type": "execute_result",
          "data": {
            "text/plain": [
              "(25, 12574)"
            ]
          },
          "metadata": {},
          "execution_count": 120
        }
      ]
    },
    {
      "cell_type": "code",
      "source": [
        "from sklearn.metrics import mean_squared_error"
      ],
      "metadata": {
        "id": "C0--DBjWWHls"
      },
      "execution_count": null,
      "outputs": []
    },
    {
      "cell_type": "code",
      "source": [
        "y2_train_predict = tree_reg.predict(X2_train_transformed)\n",
        "y2_test_predict = tree_reg.predict(X2_test_transformed)"
      ],
      "metadata": {
        "id": "mJYnX-YsWHi0"
      },
      "execution_count": null,
      "outputs": []
    },
    {
      "cell_type": "code",
      "source": [
        "mean_squared_error(y2_train, y2_train_predict)"
      ],
      "metadata": {
        "colab": {
          "base_uri": "https://localhost:8080/"
        },
        "id": "b6UzwQYtWHgR",
        "outputId": "8558a157-a937-481c-b172-afc90ea2589b"
      },
      "execution_count": null,
      "outputs": [
        {
          "output_type": "execute_result",
          "data": {
            "text/plain": [
              "127168.27110447532"
            ]
          },
          "metadata": {},
          "execution_count": 123
        }
      ]
    },
    {
      "cell_type": "code",
      "source": [
        "mean_squared_error(y2_test, y2_test_predict)"
      ],
      "metadata": {
        "colab": {
          "base_uri": "https://localhost:8080/"
        },
        "id": "KIXxNy6oWHeg",
        "outputId": "f5014b81-9a6d-4e72-88b8-d8f172b2e7b6"
      },
      "execution_count": null,
      "outputs": [
        {
          "output_type": "execute_result",
          "data": {
            "text/plain": [
              "491027.67616363504"
            ]
          },
          "metadata": {},
          "execution_count": 126
        }
      ]
    },
    {
      "cell_type": "markdown",
      "source": [
        "# Naive Bayes"
      ],
      "metadata": {
        "id": "d8O2gw2wYhJc"
      }
    },
    {
      "cell_type": "code",
      "source": [
        "from sklearn.naive_bayes import GaussianNB"
      ],
      "metadata": {
        "id": "t7IIStQrWHbV"
      },
      "execution_count": null,
      "outputs": []
    },
    {
      "cell_type": "code",
      "source": [
        "X3 = df[ ['age', 'edu num', 'captial-gain',\n",
        "        'capital-loss', 'hours-per-week'] ]"
      ],
      "metadata": {
        "id": "TPaWJKnjhI5s"
      },
      "execution_count": null,
      "outputs": []
    },
    {
      "cell_type": "code",
      "source": [
        "import seaborn as sns"
      ],
      "metadata": {
        "id": "EZYRTHj6hI3c"
      },
      "execution_count": null,
      "outputs": []
    },
    {
      "cell_type": "code",
      "source": [
        "sns.distplot(X3['age'])"
      ],
      "metadata": {
        "colab": {
          "base_uri": "https://localhost:8080/",
          "height": 351
        },
        "id": "UwJj1XtxhI1E",
        "outputId": "56b34015-dc27-4364-ef2f-c09e99d5e29a"
      },
      "execution_count": null,
      "outputs": [
        {
          "output_type": "stream",
          "name": "stderr",
          "text": [
            "/usr/local/lib/python3.7/dist-packages/seaborn/distributions.py:2619: FutureWarning: `distplot` is a deprecated function and will be removed in a future version. Please adapt your code to use either `displot` (a figure-level function with similar flexibility) or `histplot` (an axes-level function for histograms).\n",
            "  warnings.warn(msg, FutureWarning)\n"
          ]
        },
        {
          "output_type": "execute_result",
          "data": {
            "text/plain": [
              "<matplotlib.axes._subplots.AxesSubplot at 0x7fafdbd871d0>"
            ]
          },
          "metadata": {},
          "execution_count": 129
        },
        {
          "output_type": "display_data",
          "data": {
            "text/plain": [
              "<Figure size 432x288 with 1 Axes>"
            ],
            "image/png": "[encoded data removed]"
          },
          "metadata": {
            "needs_background": "light"
          }
        }
      ]
    },
    {
      "cell_type": "code",
      "source": [
        "X3_train, X3_test, y3_train, y3_test = train_test_split(X3, y, test_size=0.2)"
      ],
      "metadata": {
        "id": "XM9MjTR6igL5"
      },
      "execution_count": null,
      "outputs": []
    },
    {
      "cell_type": "code",
      "source": [
        "gnb = GaussianNB()"
      ],
      "metadata": {
        "id": "v1xpmVPWhIr1"
      },
      "execution_count": null,
      "outputs": []
    },
    {
      "cell_type": "code",
      "source": [
        "gnb.fit(X_train_transformed.toarray(), y_train)"
      ],
      "metadata": {
        "colab": {
          "base_uri": "https://localhost:8080/"
        },
        "id": "b4yoB7QyhIpx",
        "outputId": "ebf8e240-90b7-40c8-ce09-aa48053010ec"
      },
      "execution_count": null,
      "outputs": [
        {
          "output_type": "execute_result",
          "data": {
            "text/plain": [
              "GaussianNB()"
            ]
          },
          "metadata": {},
          "execution_count": 132
        }
      ]
    },
    {
      "cell_type": "code",
      "source": [
        "gnb.score(X_train_transformed.toarray(), y3_train)"
      ],
      "metadata": {
        "colab": {
          "base_uri": "https://localhost:8080/"
        },
        "id": "WlrnRoHjhIns",
        "outputId": "72e21281-be06-4f9c-e09c-f07c30d85188"
      },
      "execution_count": null,
      "outputs": [
        {
          "output_type": "execute_result",
          "data": {
            "text/plain": [
              "0.6378829370665166"
            ]
          },
          "metadata": {},
          "execution_count": 133
        }
      ]
    },
    {
      "cell_type": "code",
      "source": [
        "gnb.score(X_test_transformed.toarray(), y3_test)"
      ],
      "metadata": {
        "colab": {
          "base_uri": "https://localhost:8080/"
        },
        "id": "4djB_Q5khIlk",
        "outputId": "91cf91fa-22f5-4c91-f3a4-0190d13ab56d"
      },
      "execution_count": null,
      "outputs": [
        {
          "output_type": "execute_result",
          "data": {
            "text/plain": [
              "0.6355819428805405"
            ]
          },
          "metadata": {},
          "execution_count": 134
        }
      ]
    }
  ],
  "metadata": {
    "colab": {
      "name": "ML-Algorithms-Predict.ipynb",
      "provenance": [],
      "toc_visible": true,
      "mount_file_id": "1FZy3JDYp5zsDYml4fR1O2l2a-ouoOM2G",
      "authorship_tag": "ABX9TyPtq9vKN+3fGzDr1Beir6Ck",
      "include_colab_link": true
    },
    "kernelspec": {
      "display_name": "Python 3",
      "name": "python3"
    },
    "language_info": {
      "name": "python"
    }
  },
  "nbformat": 4,
  "nbformat_minor": 0
}